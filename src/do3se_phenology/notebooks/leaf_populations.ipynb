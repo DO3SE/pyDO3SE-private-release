{
 "cells": [
  {
   "cell_type": "markdown",
   "source": [
    "# This notebook generates leaf population distributions\n",
    "\n",
    "The distribution of leaf populations over the course of the growing season effects how leaf populations overlap and how many leaf populations we need.\n",
    "\n"
   ],
   "metadata": {}
  },
  {
   "cell_type": "code",
   "execution_count": 213,
   "source": [
    "import numpy as np\n",
    "import pandas as pd\n",
    "from matplotlib import pyplot as plt\n",
    "from math import *"
   ],
   "outputs": [],
   "metadata": {}
  },
  {
   "cell_type": "code",
   "execution_count": 214,
   "source": [
    "td = np.arange(100)\n",
    "t_l = 10\n"
   ],
   "outputs": [],
   "metadata": {}
  },
  {
   "cell_type": "code",
   "execution_count": 215,
   "source": [
    "a = 0.050\n",
    "emerged_leaf_count = np.ceil(td * a) + 1\n",
    "plt.plot(emerged_leaf_count)"
   ],
   "outputs": [
    {
     "output_type": "execute_result",
     "data": {
      "text/plain": [
       "[<matplotlib.lines.Line2D at 0x7fd8240872e0>]"
      ]
     },
     "metadata": {},
     "execution_count": 215
    },
    {
     "output_type": "display_data",
     "data": {
      "image/png": "[encoded data removed]",
      "text/plain": [
       "<Figure size 432x288 with 1 Axes>"
      ]
     },
     "metadata": {
      "needs_background": "light"
     }
    }
   ],
   "metadata": {}
  },
  {
   "cell_type": "code",
   "execution_count": 216,
   "source": [
    "leaf_population_t_emerg = np.array([dd for (i, c), dd in zip(enumerate(emerged_leaf_count), td) if i > 2 and c > emerged_leaf_count[i-1]])\n",
    "nP = len(leaf_population_t_emerg)\n",
    "leaf_population_t_emerg"
   ],
   "outputs": [
    {
     "output_type": "execute_result",
     "data": {
      "text/plain": [
       "array([21, 41, 61, 81])"
      ]
     },
     "metadata": {},
     "execution_count": 216
    }
   ],
   "metadata": {}
  },
  {
   "cell_type": "code",
   "execution_count": 217,
   "source": [
    "\n",
    "t_lem = t_l * 0.53\n",
    "leaf_population_t_lems = [t_lem for _ in range(nP)]\n",
    "leaf_population_t_lems"
   ],
   "outputs": [
    {
     "output_type": "execute_result",
     "data": {
      "text/plain": [
       "[5.300000000000001, 5.300000000000001, 5.300000000000001, 5.300000000000001]"
      ]
     },
     "metadata": {},
     "execution_count": 217
    }
   ],
   "metadata": {}
  },
  {
   "cell_type": "code",
   "execution_count": 218,
   "source": [
    "from typing import List\n",
    "def get_growing_populations(nP: int, td, leaf_population_t_emerg: List[float], leaf_population_t_lems: List[float]) -> List[bool]:\n",
    "    \"\"\"Calculate which leaf populations are still growing\"\"\"\n",
    "    growing_populations = [False for _ in range(nP)]\n",
    "    for iP in range(nP):    \n",
    "        t_emerg = leaf_population_t_emerg[iP]\n",
    "        t_lem = leaf_population_t_lems[iP]\n",
    "        growing_populations[iP] = t_emerg < td <= t_emerg + t_lem\n",
    "    return growing_populations\n",
    "        "
   ],
   "outputs": [],
   "metadata": {}
  },
  {
   "cell_type": "code",
   "execution_count": 219,
   "source": [
    "td_daily = td\n",
    "x = td_daily\n",
    "a = 0\n",
    "growing_populations_all = [get_growing_populations(nP, td, leaf_population_t_emerg, leaf_population_t_lems) for td in td_daily]\n",
    "for i, iP in enumerate(range(nP)):\n",
    "    b = np.array([g[iP] for g in growing_populations_all])\n",
    "    plt.fill_between(x, i, i + b, label=iP)\n",
    "    plt.legend()\n",
    "    \n",
    "    \n",
    "for iP in range(nP):\n",
    "    plt.axvline(leaf_population_t_emerg[iP], c=\"green\")\n",
    "    plt.axvline(leaf_population_t_emerg[iP] + leaf_population_t_lems[iP], c=\"red\")\n",
    "    print(leaf_population_t_emerg[iP],leaf_population_t_lems[iP])\n"
   ],
   "outputs": [
    {
     "output_type": "stream",
     "name": "stdout",
     "text": [
      "21 5.300000000000001\n",
      "41 5.300000000000001\n",
      "61 5.300000000000001\n",
      "81 5.300000000000001\n"
     ]
    },
    {
     "output_type": "display_data",
     "data": {
      "image/png": "[encoded data removed]",
      "text/plain": [
       "<Figure size 432x288 with 1 Axes>"
      ]
     },
     "metadata": {
      "needs_background": "light"
     }
    }
   ],
   "metadata": {}
  },
  {
   "cell_type": "code",
   "execution_count": 220,
   "source": [
    "from _utils import interact_plus_reset\n",
    "import ipywidgets as widgets"
   ],
   "outputs": [],
   "metadata": {}
  },
  {
   "cell_type": "code",
   "execution_count": 221,
   "source": [
    "def vert_line(ax, x, ylim, **kwargs):\n",
    "    ax.plot([x,x], ylim, **kwargs)"
   ],
   "outputs": [],
   "metadata": {}
  },
  {
   "cell_type": "markdown",
   "source": [
    "# Methods for defining rate of leaf emergence\n",
    "The below methods define the rate at which successive leaf populations emerge(Green vertical line). They also show the period of emergence(t_lem) for each leaf population(Horizontal bars between green vertical line and orange vertical line) and the end of the leaf population lifespan(t_l) (Red vertical line).\n"
   ],
   "metadata": {}
  },
  {
   "cell_type": "markdown",
   "source": [
    "# Method 1 - Specify Growth Rate\n",
    "The first method specifies a growth rate that defines the rate of leaf emergence as a function of the thermal time and a growth rate parameter."
   ],
   "metadata": {}
  },
  {
   "cell_type": "code",
   "execution_count": 222,
   "source": [
    "@interact_plus_reset(\n",
    "  t_l = widgets.FloatSlider(min=1, max=90, value=35, step=0.1), \n",
    "  growth_rate = widgets.FloatSlider(min=0.001, max=0.1, value=0.05, step=0.0001), \n",
    ")\n",
    "def get_t_l(\n",
    "    t_l,\n",
    "    growth_rate,\n",
    "):\n",
    "    fig, pltx = plt.subplots()\n",
    "    td_daily = np.arange(100)\n",
    "    emerged_leaf_count = np.ceil(td_daily * growth_rate) + 1\n",
    "    pltx.plot(emerged_leaf_count)\n",
    "\n",
    "    leaf_population_t_emerg = np.array([dd for (i, c), dd in zip(enumerate(emerged_leaf_count), td) if c > emerged_leaf_count[i-1] or i == 1])\n",
    "    nP = len(leaf_population_t_emerg)\n",
    "\n",
    "    t_lem = t_l * 0.53\n",
    "    leaf_population_t_lems = [t_lem for _ in range(nP)]\n",
    "\n",
    "    growing_populations_all = [get_growing_populations(nP, td, leaf_population_t_emerg, leaf_population_t_lems) for td in td_daily]\n",
    "    for iP in range(nP):\n",
    "        b = np.array([g[iP] for g in growing_populations_all])\n",
    "        pltx.fill_between(x, iP+0.2, iP+0.2 + (b*0.3), label=iP)\n",
    "        pltx.legend()\n",
    "        \n",
    "        \n",
    "    for iP in range(nP):\n",
    "        vert_line(pltx, leaf_population_t_emerg[iP], [iP-0.2, iP+1.2], c=\"green\")\n",
    "        vert_line(pltx, leaf_population_t_emerg[iP] + leaf_population_t_lems[iP], [iP-0.2, iP+1.2], c=\"orange\")\n",
    "        vert_line(pltx, leaf_population_t_emerg[iP] + t_l, [iP-0.2, iP+1.2], c=\"red\")\n",
    "\n",
    "print(\"Blue line is number of emerged leaf populations\")\n",
    "print(\"Green vertical lines are start of leaf emergence\")\n",
    "print(\"Orange vertical lines are end of leaf emergence\")\n",
    "print(\"Red vertical lines are end of leaf lifespan\")\n"
   ],
   "outputs": [
    {
     "output_type": "display_data",
     "data": {
      "application/vnd.jupyter.widget-view+json": {
       "version_major": 2,
       "version_minor": 0,
       "model_id": "6790a27bcb8e45f28953d7c84cbadc8c"
      },
      "text/plain": [
       "Button(description='Reset', style=ButtonStyle())"
      ]
     },
     "metadata": {}
    },
    {
     "output_type": "display_data",
     "data": {
      "application/vnd.jupyter.widget-view+json": {
       "version_major": 2,
       "version_minor": 0,
       "model_id": "c148fed0e2a14d68bbe4b880098294be"
      },
      "text/plain": [
       "VBox(children=(HBox(children=(Label(value='t_l'), FloatSlider(value=35.0, max=90.0, min=1.0)), layout=Layout(w…"
      ]
     },
     "metadata": {}
    },
    {
     "output_type": "display_data",
     "data": {
      "application/vnd.jupyter.widget-view+json": {
       "version_major": 2,
       "version_minor": 0,
       "model_id": "a93c506d00ab48a685e7cb9b56bb5d29"
      },
      "text/plain": [
       "Output()"
      ]
     },
     "metadata": {}
    },
    {
     "output_type": "stream",
     "name": "stdout",
     "text": [
      "Blue line is number of emerged leaf populations\n",
      "Green vertical lines are start of leaf emergence\n",
      "Orange vertical lines are end of leaf emergence\n",
      "Red vertical lines are end of leaf lifespan\n"
     ]
    }
   ],
   "metadata": {}
  },
  {
   "cell_type": "markdown",
   "source": [
    "# Method 2 - Specify Number of Populations\n",
    "The second method specifies a set number of populations. We then set the growth rate to distribute these over the growing season"
   ],
   "metadata": {}
  },
  {
   "cell_type": "code",
   "execution_count": 1,
   "source": [
    "@interact_plus_reset(\n",
    "  t_l = widgets.FloatSlider(min=1, max=90, value=35, step=0.1), \n",
    "#   growth_rate = widgets.FloatSlider(min=0.001, max=0.1, value=0.05, step=0.0001), \n",
    "  nP = widgets.IntSlider(min=1, max=10), \n",
    ")\n",
    "def get_t_l(\n",
    "    t_l,\n",
    "    # growth_rate,\n",
    "    nP,\n",
    "):\n",
    "    fig, pltx = plt.subplots()\n",
    "    td_daily = np.arange(100)\n",
    "\n",
    "    growth_rate = nP / (td_daily[-1] - td_daily[0])\n",
    "    emerged_leaf_count = np.ceil(td_daily * growth_rate) + 1\n",
    "    pltx.plot(emerged_leaf_count)\n",
    "\n",
    "    leaf_population_t_emerg = np.array([dd for (i, c), dd in zip(enumerate(emerged_leaf_count), td) if c > emerged_leaf_count[i-1] or i == 1])\n",
    "    nP = len(leaf_population_t_emerg)\n",
    "\n",
    "    t_lem = t_l * 0.53\n",
    "    leaf_population_t_lems = [t_lem for _ in range(nP)]\n",
    "\n",
    "    growing_populations_all = [get_growing_populations(nP, td, leaf_population_t_emerg, leaf_population_t_lems) for td in td_daily]\n",
    "    for iP in range(nP):\n",
    "        b = np.array([g[iP] for g in growing_populations_all])\n",
    "        pltx.fill_between(x, iP+0.2, iP+0.2 + (b*0.3), label=iP)\n",
    "        pltx.legend()\n",
    "        \n",
    "        \n",
    "    for iP in range(nP):\n",
    "        vert_line(pltx, leaf_population_t_emerg[iP], [iP-0.2, iP+1.2], c=\"green\")\n",
    "        vert_line(pltx, leaf_population_t_emerg[iP] + leaf_population_t_lems[iP], [iP-0.2, iP+1.2], c=\"orange\")\n",
    "        vert_line(pltx, leaf_population_t_emerg[iP] + t_l, [iP-0.2, iP+1.2], c=\"red\")\n",
    "\n",
    "print(\"Blue line is number of emerged leaf populations\")\n",
    "print(\"Green vertical lines are start of leaf emergence\")\n",
    "print(\"Orange vertical lines are end of leaf emergence\")\n",
    "print(\"Red vertical lines are end of leaf lifespan\")\n"
   ],
   "outputs": [
    {
     "output_type": "error",
     "ename": "NameError",
     "evalue": "name 'interact_plus_reset' is not defined",
     "traceback": [
      "\u001b[0;31m---------------------------------------------------------------------------\u001b[0m",
      "\u001b[0;31mNameError\u001b[0m                                 Traceback (most recent call last)",
      "\u001b[0;32m<ipython-input-1-8fb214fb8908>\u001b[0m in \u001b[0;36m<module>\u001b[0;34m\u001b[0m\n\u001b[0;32m----> 1\u001b[0;31m @interact_plus_reset(\n\u001b[0m\u001b[1;32m      2\u001b[0m   \u001b[0mt_l\u001b[0m \u001b[0;34m=\u001b[0m \u001b[0mwidgets\u001b[0m\u001b[0;34m.\u001b[0m\u001b[0mFloatSlider\u001b[0m\u001b[0;34m(\u001b[0m\u001b[0mmin\u001b[0m\u001b[0;34m=\u001b[0m\u001b[0;36m1\u001b[0m\u001b[0;34m,\u001b[0m \u001b[0mmax\u001b[0m\u001b[0;34m=\u001b[0m\u001b[0;36m90\u001b[0m\u001b[0;34m,\u001b[0m \u001b[0mvalue\u001b[0m\u001b[0;34m=\u001b[0m\u001b[0;36m35\u001b[0m\u001b[0;34m,\u001b[0m \u001b[0mstep\u001b[0m\u001b[0;34m=\u001b[0m\u001b[0;36m0.1\u001b[0m\u001b[0;34m)\u001b[0m\u001b[0;34m,\u001b[0m\u001b[0;34m\u001b[0m\u001b[0;34m\u001b[0m\u001b[0m\n\u001b[1;32m      3\u001b[0m \u001b[0;31m#   growth_rate = widgets.FloatSlider(min=0.001, max=0.1, value=0.05, step=0.0001),\u001b[0m\u001b[0;34m\u001b[0m\u001b[0;34m\u001b[0m\u001b[0;34m\u001b[0m\u001b[0m\n\u001b[1;32m      4\u001b[0m   \u001b[0mnP\u001b[0m \u001b[0;34m=\u001b[0m \u001b[0mwidgets\u001b[0m\u001b[0;34m.\u001b[0m\u001b[0mIntSlider\u001b[0m\u001b[0;34m(\u001b[0m\u001b[0mmin\u001b[0m\u001b[0;34m=\u001b[0m\u001b[0;36m1\u001b[0m\u001b[0;34m,\u001b[0m \u001b[0mmax\u001b[0m\u001b[0;34m=\u001b[0m\u001b[0;36m10\u001b[0m\u001b[0;34m)\u001b[0m\u001b[0;34m,\u001b[0m\u001b[0;34m\u001b[0m\u001b[0;34m\u001b[0m\u001b[0m\n\u001b[1;32m      5\u001b[0m )\n",
      "\u001b[0;31mNameError\u001b[0m: name 'interact_plus_reset' is not defined"
     ]
    }
   ],
   "metadata": {}
  },
  {
   "cell_type": "markdown",
   "source": [
    "# Method 3 - Specify the length of a leaf life span\n",
    "The third method specifies the lifespan of each leaf population and fits them with no overlap"
   ],
   "metadata": {}
  },
  {
   "cell_type": "code",
   "execution_count": 224,
   "source": [
    "@interact_plus_reset(\n",
    "  t_l = widgets.FloatSlider(min=1, max=90, value=35, step=0.1), \n",
    "  nP = widgets.IntSlider(min=1, max=10), \n",
    ")\n",
    "def get_t_l(\n",
    "    t_l,\n",
    "    nP,\n",
    "):\n",
    "    fig, pltx = plt.subplots()\n",
    "    td_daily = np.arange(100)\n",
    "\n",
    "    t_lem = t_l * 0.53\n",
    "    growth_rate = 1 / t_l\n",
    "    emerged_leaf_count = np.ceil(td_daily * growth_rate) + 1\n",
    "    pltx.plot(emerged_leaf_count)\n",
    "\n",
    "    leaf_population_t_emerg = np.array([dd for (i, c), dd in zip(enumerate(emerged_leaf_count), td) if c > emerged_leaf_count[i-1] or i == 1])\n",
    "    nP = len(leaf_population_t_emerg)\n",
    "\n",
    "    leaf_population_t_lems = [t_lem for _ in range(nP)]\n",
    "\n",
    "    growing_populations_all = [get_growing_populations(nP, td, leaf_population_t_emerg, leaf_population_t_lems) for td in td_daily]\n",
    "    for iP in range(nP):\n",
    "        b = np.array([g[iP] for g in growing_populations_all])\n",
    "        pltx.fill_between(x, iP+0.2, iP+0.2 + (b*0.3), label=iP)\n",
    "        pltx.legend()\n",
    "        \n",
    "        \n",
    "    for iP in range(nP):\n",
    "        vert_line(pltx, leaf_population_t_emerg[iP], [iP-0.2, iP+1.2], c=\"green\")\n",
    "        vert_line(pltx, leaf_population_t_emerg[iP] + leaf_population_t_lems[iP], [iP-0.2, iP+1.2], c=\"orange\")\n",
    "        vert_line(pltx, leaf_population_t_emerg[iP] + t_l, [iP-0.2, iP+1.2], c=\"red\")\n",
    "\n",
    "print(\"Blue line is number of emerged leaf populations\")\n",
    "print(\"Green vertical lines are start of leaf emergence\")\n",
    "print(\"Orange vertical lines are end of leaf emergence\")\n",
    "print(\"Red vertical lines are end of leaf lifespan\")\n"
   ],
   "outputs": [
    {
     "output_type": "display_data",
     "data": {
      "application/vnd.jupyter.widget-view+json": {
       "version_major": 2,
       "version_minor": 0,
       "model_id": "fd975bddaad248f093acb99edb7b57e1"
      },
      "text/plain": [
       "Button(description='Reset', style=ButtonStyle())"
      ]
     },
     "metadata": {}
    },
    {
     "output_type": "display_data",
     "data": {
      "application/vnd.jupyter.widget-view+json": {
       "version_major": 2,
       "version_minor": 0,
       "model_id": "5ca53914e0a44a8d8d3c80a66f2d09d7"
      },
      "text/plain": [
       "VBox(children=(HBox(children=(Label(value='t_l'), FloatSlider(value=35.0, max=90.0, min=1.0)), layout=Layout(w…"
      ]
     },
     "metadata": {}
    },
    {
     "output_type": "display_data",
     "data": {
      "application/vnd.jupyter.widget-view+json": {
       "version_major": 2,
       "version_minor": 0,
       "model_id": "455c845fdaee41d5bf5b5cc49f614956"
      },
      "text/plain": [
       "Output()"
      ]
     },
     "metadata": {}
    },
    {
     "output_type": "stream",
     "name": "stdout",
     "text": [
      "Blue line is number of emerged leaf populations\n",
      "Green vertical lines are start of leaf emergence\n",
      "Orange vertical lines are end of leaf emergence\n",
      "Red vertical lines are end of leaf lifespan\n"
     ]
    }
   ],
   "metadata": {}
  },
  {
   "cell_type": "markdown",
   "source": [
    "# Method 4 - Specify the length of a leaf life span and fit them together so that t_lma overlaps\n",
    "The third method specifies the lifespan of each leaf population and fits them so that only 1 leaf population is emerging at a time(I.e no t_lem periods overlap)"
   ],
   "metadata": {}
  },
  {
   "cell_type": "code",
   "execution_count": 225,
   "source": [
    "@interact_plus_reset(\n",
    "  t_l = widgets.FloatSlider(min=1, max=90, value=35, step=0.1), \n",
    ")\n",
    "def get_t_l(\n",
    "    t_l,\n",
    "):\n",
    "    fig, pltx = plt.subplots()\n",
    "    td_daily = np.arange(100)\n",
    "\n",
    "    t_lem = t_l * 0.53\n",
    "    growth_rate = 1 / t_lem\n",
    "\n",
    "    emerged_leaf_count = np.ceil(td_daily * growth_rate) + 1\n",
    "    pltx.plot(emerged_leaf_count)\n",
    "\n",
    "    leaf_population_t_emerg = np.array([dd for (i, c), dd in zip(enumerate(emerged_leaf_count), td) if c > emerged_leaf_count[i-1] or i == 1])\n",
    "    nP = len(leaf_population_t_emerg)\n",
    "\n",
    "    leaf_population_t_lems = [t_lem for _ in range(nP)]\n",
    "\n",
    "    growing_populations_all = [get_growing_populations(nP, td, leaf_population_t_emerg, leaf_population_t_lems) for td in td_daily]\n",
    "    for iP in range(nP):\n",
    "        b = np.array([g[iP] for g in growing_populations_all])\n",
    "        pltx.fill_between(x, iP+0.2, iP+0.2 + (b*0.3), label=iP)\n",
    "        pltx.legend()\n",
    "        \n",
    "        \n",
    "    for iP in range(nP):\n",
    "        vert_line(pltx, leaf_population_t_emerg[iP], [iP-0.2, iP+1.2], c=\"green\")\n",
    "        vert_line(pltx, leaf_population_t_emerg[iP] + leaf_population_t_lems[iP], [iP-0.2, iP+1.2], c=\"orange\")\n",
    "        vert_line(pltx, leaf_population_t_emerg[iP] + t_l, [iP-0.2, iP+1.2], c=\"red\")\n",
    "\n",
    "print(\"Blue line is number of emerged leaf populations\")\n",
    "print(\"Green vertical lines are start of leaf emergence\")\n",
    "print(\"Orange vertical lines are end of leaf emergence\")\n",
    "print(\"Red vertical lines are end of leaf lifespan\")\n"
   ],
   "outputs": [
    {
     "output_type": "display_data",
     "data": {
      "application/vnd.jupyter.widget-view+json": {
       "version_major": 2,
       "version_minor": 0,
       "model_id": "4d89f333cc374bd18ab6db5663dedb39"
      },
      "text/plain": [
       "Button(description='Reset', style=ButtonStyle())"
      ]
     },
     "metadata": {}
    },
    {
     "output_type": "display_data",
     "data": {
      "application/vnd.jupyter.widget-view+json": {
       "version_major": 2,
       "version_minor": 0,
       "model_id": "402aa1a1088740f4ad445b389e7f7046"
      },
      "text/plain": [
       "VBox(children=(HBox(children=(Label(value='t_l'), FloatSlider(value=35.0, max=90.0, min=1.0)), layout=Layout(w…"
      ]
     },
     "metadata": {}
    },
    {
     "output_type": "display_data",
     "data": {
      "application/vnd.jupyter.widget-view+json": {
       "version_major": 2,
       "version_minor": 0,
       "model_id": "2dea6c729ede4dfa9d7293e24570abb0"
      },
      "text/plain": [
       "Output()"
      ]
     },
     "metadata": {}
    },
    {
     "output_type": "stream",
     "name": "stdout",
     "text": [
      "Blue line is number of emerged leaf populations\n",
      "Green vertical lines are start of leaf emergence\n",
      "Orange vertical lines are end of leaf emergence\n",
      "Red vertical lines are end of leaf lifespan\n"
     ]
    }
   ],
   "metadata": {}
  },
  {
   "cell_type": "markdown",
   "source": [
    "# Method 5 - Specifiy the number of populations and t_l and fit so that all populations fit in growing season\n",
    "This method fits the populations with even spacing so that the first population emerges at sgs and the last population ends at EGS"
   ],
   "metadata": {}
  },
  {
   "cell_type": "code",
   "execution_count": 226,
   "source": [
    "@interact_plus_reset(\n",
    "  t_l = widgets.FloatSlider(min=1, max=90, value=35, step=0.1), \n",
    "  nP = widgets.IntSlider(min=1, max=10), \n",
    ")\n",
    "def get_t_l(\n",
    "    t_l,\n",
    "    nP,\n",
    "):\n",
    "    fig, pltx = plt.subplots()\n",
    "    td_daily = np.arange(100)\n",
    "\n",
    "    t_lem = t_l * 0.53\n",
    "\n",
    "    last_t_emerg = td[-1] - t_l\n",
    "    first_t_emerg = 0\n",
    "\n",
    "    growth_rate = (nP-1) / (last_t_emerg - first_t_emerg)\n",
    "\n",
    "    emerged_leaf_count = np.ceil(td_daily * growth_rate) + 1\n",
    "    pltx.plot(emerged_leaf_count)\n",
    "\n",
    "\n",
    "    leaf_population_t_emerg = np.array([dd for (i, c), dd in zip(enumerate(emerged_leaf_count), td) if c > emerged_leaf_count[i-1] or i == 1])\n",
    "\n",
    "    leaf_population_t_lems = [t_lem for _ in range(nP)]\n",
    "\n",
    "    growing_populations_all = [get_growing_populations(nP, td, leaf_population_t_emerg, leaf_population_t_lems) for td in td_daily]\n",
    "    for iP in range(nP):\n",
    "        b = np.array([g[iP] for g in growing_populations_all])\n",
    "        pltx.fill_between(x, iP+0.2, iP+0.2 + (b*0.3), label=iP)\n",
    "        pltx.legend()\n",
    "        \n",
    "        \n",
    "    for iP in range(nP):\n",
    "        vert_line(pltx, leaf_population_t_emerg[iP], [iP-0.2, iP+1.2], c=\"green\")\n",
    "        vert_line(pltx, leaf_population_t_emerg[iP] + leaf_population_t_lems[iP], [iP-0.2, iP+1.2], c=\"orange\")\n",
    "        vert_line(pltx, leaf_population_t_emerg[iP] + t_l, [iP-0.2, iP+1.2], c=\"red\")\n",
    "\n",
    "print(\"Blue line is number of emerged leaf populations\")\n",
    "print(\"Green vertical lines are start of leaf emergence\")\n",
    "print(\"Orange vertical lines are end of leaf emergence\")\n",
    "print(\"Red vertical lines are end of leaf lifespan\")"
   ],
   "outputs": [
    {
     "output_type": "display_data",
     "data": {
      "application/vnd.jupyter.widget-view+json": {
       "version_major": 2,
       "version_minor": 0,
       "model_id": "12cd51e4ccc04a16beae32bc019c6024"
      },
      "text/plain": [
       "Button(description='Reset', style=ButtonStyle())"
      ]
     },
     "metadata": {}
    },
    {
     "output_type": "display_data",
     "data": {
      "application/vnd.jupyter.widget-view+json": {
       "version_major": 2,
       "version_minor": 0,
       "model_id": "8c3a19c3c45d484f9a63ba8e683eca89"
      },
      "text/plain": [
       "VBox(children=(HBox(children=(Label(value='t_l'), FloatSlider(value=35.0, max=90.0, min=1.0)), layout=Layout(w…"
      ]
     },
     "metadata": {}
    },
    {
     "output_type": "display_data",
     "data": {
      "application/vnd.jupyter.widget-view+json": {
       "version_major": 2,
       "version_minor": 0,
       "model_id": "636e717fcb384dfe93c3302959e08e19"
      },
      "text/plain": [
       "Output()"
      ]
     },
     "metadata": {}
    },
    {
     "output_type": "stream",
     "name": "stdout",
     "text": [
      "Blue line is number of emerged leaf populations\n",
      "Green vertical lines are start of leaf emergence\n",
      "Orange vertical lines are end of leaf emergence\n",
      "Red vertical lines are end of leaf lifespan\n"
     ]
    }
   ],
   "metadata": {}
  },
  {
   "cell_type": "code",
   "execution_count": 227,
   "source": [
    "\n",
    "@interact_plus_reset(\n",
    "  t_l = widgets.FloatSlider(min=1, max=90, value=50, step=0.1), \n",
    "  nP = widgets.IntSlider(min=1, max=10, value=4), \n",
    ")\n",
    "def get_t_l(\n",
    "    t_l,\n",
    "    nP,\n",
    "):\n",
    "    fig, pltx = plt.subplots()\n",
    "    pltx.clear()\n",
    "    td_daily = np.arange(100)\n",
    "\n",
    "    t_l_flag = t_l\n",
    "\n",
    "    t_lem = t_l * 0.53\n",
    "    t_lem_flag = t_l_flag * 0.53\n",
    "    t_lep = t_lem + t_l * 0.31\n",
    "    t_lep_flag = t_lem_flag + t_l_flag * 0.31\n",
    "\n",
    "    last_t_emerg = td[-1] - t_l_flag\n",
    "    first_t_emerg = 0\n",
    "\n",
    "    growth_rate = (nP-1) / (last_t_emerg - first_t_emerg)\n",
    "\n",
    "    emerged_leaf_count = np.ceil(td_daily * growth_rate) + 1\n",
    "    pltx.plot(emerged_leaf_count)\n",
    "\n",
    "\n",
    "    leaf_population_t_emerg = np.array([dd for (i, c), dd in zip(enumerate(emerged_leaf_count), td) if c > emerged_leaf_count[i-1] or i == 1])\n",
    "\n",
    "    leaf_population_t_lems = [t_lem for _ in range(nP-1)] + [t_l_flag * 0.53]\n",
    "\n",
    "    growing_populations_all = [get_growing_populations(nP, td, leaf_population_t_emerg, leaf_population_t_lems) for td in td_daily]\n",
    "    for iP in range(nP):\n",
    "        b = np.array([g[iP] for g in growing_populations_all])\n",
    "        pltx.fill_between(x, iP+0.2, iP+0.2 + (b*0.3), label=iP)\n",
    "        pltx.legend()\n",
    "        \n",
    "        \n",
    "    for iP in range(nP-1):\n",
    "        vert_line(pltx, leaf_population_t_emerg[iP], [iP-0.2, iP+1.2], c=\"green\")\n",
    "        vert_line(pltx, leaf_population_t_emerg[iP] + leaf_population_t_lems[iP], [iP-0.2, iP+1.2], c=\"orange\")\n",
    "        vert_line(pltx, leaf_population_t_emerg[iP] + t_lep, [iP-0.2, iP+1.2], c=\"blue\")\n",
    "        vert_line(pltx, leaf_population_t_emerg[iP] + t_l, [iP-0.2, iP+1.2], c=\"red\")\n",
    "\n",
    "    vert_line(pltx, leaf_population_t_emerg[nP-1], [nP-1-0.2, nP-1+1.2], c=\"green\")\n",
    "    vert_line(pltx, leaf_population_t_emerg[nP-1] + leaf_population_t_lems[nP-1], [nP-1-0.2, nP-1+1.2], c=\"orange\")\n",
    "    vert_line(pltx, leaf_population_t_emerg[nP-1] + t_lep_flag, [nP-1-0.2, nP-1+1.2], c=\"blue\")\n",
    "    vert_line(pltx, leaf_population_t_emerg[nP-1] + t_l_flag, [nP-1-0.2, nP-1+1.2], c=\"red\")\n",
    "\n",
    "print(\"Blue line is number of emerged leaf populations\")\n",
    "print(\"Green vertical lines are start of leaf emergence\")\n",
    "print(\"Orange vertical lines are end of leaf emergence\")\n",
    "print(\"Blue vertical lines are start of leaf senesence\")\n",
    "print(\"Red vertical lines are end of leaf lifespan\")"
   ],
   "outputs": [
    {
     "output_type": "display_data",
     "data": {
      "application/vnd.jupyter.widget-view+json": {
       "version_major": 2,
       "version_minor": 0,
       "model_id": "a6c06c9045ea414d85b4be3bc2f2045a"
      },
      "text/plain": [
       "Button(description='Reset', style=ButtonStyle())"
      ]
     },
     "metadata": {}
    },
    {
     "output_type": "display_data",
     "data": {
      "application/vnd.jupyter.widget-view+json": {
       "version_major": 2,
       "version_minor": 0,
       "model_id": "5483c3aab4974ff3bed0eff9de329b89"
      },
      "text/plain": [
       "VBox(children=(HBox(children=(Label(value='t_l'), FloatSlider(value=50.0, max=90.0, min=1.0)), layout=Layout(w…"
      ]
     },
     "metadata": {}
    },
    {
     "output_type": "display_data",
     "data": {
      "application/vnd.jupyter.widget-view+json": {
       "version_major": 2,
       "version_minor": 0,
       "model_id": "e532df2dba054893a3091662ccef68f4"
      },
      "text/plain": [
       "Output()"
      ]
     },
     "metadata": {}
    },
    {
     "output_type": "stream",
     "name": "stdout",
     "text": [
      "Blue line is number of emerged leaf populations\n",
      "Green vertical lines are start of leaf emergence\n",
      "Orange vertical lines are end of leaf emergence\n",
      "Blue vertical lines are start of leaf senesence\n",
      "Red vertical lines are end of leaf lifespan\n"
     ]
    }
   ],
   "metadata": {}
  },
  {
   "cell_type": "markdown",
   "source": [
    "# Method 6 - Specifiy the number of populations and t_l and fit so that all populations fit in growing season (With Flag leaf)\n",
    "This method fits the populations with even spacing so that the first population emerges at sgs and the last population ends at EGS. Sets the last population to length of flag leaf"
   ],
   "metadata": {}
  },
  {
   "cell_type": "code",
   "execution_count": 244,
   "source": [
    "f_phen_d = td[-1]\n",
    "@interact_plus_reset(\n",
    "  t_l = widgets.FloatSlider(min=1, max=90, value=50, step=0.1), \n",
    "  t_l_flag = widgets.FloatSlider(min=1, max=90, value=70, step=0.1), \n",
    "  nP = widgets.IntSlider(min=1, max=10, value=4), \n",
    ")\n",
    "def get_t_l(\n",
    "    t_l,\n",
    "    t_l_flag,\n",
    "    nP,\n",
    "):\n",
    "    fig, pltx = plt.subplots()\n",
    "    pltx.clear()\n",
    "    td_daily = np.arange(100)\n",
    "\n",
    "    \n",
    "    t_lem = t_l * 0.53\n",
    "    t_lem_flag = t_l_flag * 0.53\n",
    "    t_lep = t_lem + t_l * 0.31\n",
    "    t_lep_flag = t_lem_flag + t_l_flag * 0.31\n",
    "\n",
    "    last_t_emerg = f_phen_d - t_l_flag # emergence of flag leaf\n",
    "    first_t_emerg = 0\n",
    "\n",
    "    growth_rate = (nP-1) / (last_t_emerg - first_t_emerg)\n",
    "\n",
    "    emerged_leaf_count = np.ceil(td_daily * growth_rate)\n",
    "    pltx.plot(emerged_leaf_count)\n",
    "\n",
    "    leaf_population_t_emerg = np.array([t for (i, c), t in zip(enumerate(emerged_leaf_count), td) if c >= 1 and c > emerged_leaf_count[i-1] and c < nP] + [last_t_emerg])\n",
    "\n",
    "    leaf_population_t_lems = [t_lem for _ in range(nP-1)] + [t_l_flag * 0.53]\n",
    "\n",
    "    growing_populations_all = [get_growing_populations(nP, td, leaf_population_t_emerg, leaf_population_t_lems) for td in td_daily]\n",
    "    for iP in range(nP):\n",
    "        b = np.array([g[iP] for g in growing_populations_all])\n",
    "        pltx.fill_between(x, iP+0.2, iP+0.2 + (b*0.3), label=iP)\n",
    "        pltx.legend()\n",
    "        \n",
    "        \n",
    "    for iP in range(nP-1):\n",
    "        vert_line(pltx, leaf_population_t_emerg[iP], [iP-0.2, iP+1.2], c=\"green\")\n",
    "        vert_line(pltx, leaf_population_t_emerg[iP] + leaf_population_t_lems[iP], [iP-0.2, iP+1.2], c=\"orange\")\n",
    "        vert_line(pltx, leaf_population_t_emerg[iP] + t_lep, [iP-0.2, iP+1.2], c=\"blue\")\n",
    "        vert_line(pltx, leaf_population_t_emerg[iP] + t_l, [iP-0.2, iP+1.2], c=\"red\")\n",
    "\n",
    "    vert_line(pltx, leaf_population_t_emerg[nP-1], [nP-1-0.2, nP-1+1.2], c=\"green\")\n",
    "    vert_line(pltx, leaf_population_t_emerg[nP-1] + leaf_population_t_lems[nP-1], [nP-1-0.2, nP-1+1.2], c=\"orange\")\n",
    "    vert_line(pltx, leaf_population_t_emerg[nP-1] + t_lep_flag, [nP-1-0.2, nP-1+1.2], c=\"blue\")\n",
    "    vert_line(pltx, leaf_population_t_emerg[nP-1] + t_l_flag, [nP-1-0.2, nP-1+1.2], c=\"red\")\n",
    "\n",
    "print(\"Blue line is number of emerged leaf populations\")\n",
    "print(\"Green vertical lines are start of leaf emergence\")\n",
    "print(\"Orange vertical lines are end of leaf emergence\")\n",
    "print(\"Blue vertical lines are start of leaf senesence\")\n",
    "print(\"Red vertical lines are end of leaf lifespan\")"
   ],
   "outputs": [
    {
     "output_type": "display_data",
     "data": {
      "application/vnd.jupyter.widget-view+json": {
       "version_major": 2,
       "version_minor": 0,
       "model_id": "6b8b59a620714a048ca577d351b7230c"
      },
      "text/plain": [
       "Button(description='Reset', style=ButtonStyle())"
      ]
     },
     "metadata": {}
    },
    {
     "output_type": "display_data",
     "data": {
      "application/vnd.jupyter.widget-view+json": {
       "version_major": 2,
       "version_minor": 0,
       "model_id": "151f27c1540a4048b1b3c1da6e4673f2"
      },
      "text/plain": [
       "VBox(children=(HBox(children=(Label(value='t_l'), FloatSlider(value=50.0, max=90.0, min=1.0)), layout=Layout(w…"
      ]
     },
     "metadata": {}
    },
    {
     "output_type": "display_data",
     "data": {
      "application/vnd.jupyter.widget-view+json": {
       "version_major": 2,
       "version_minor": 0,
       "model_id": "655596703f6b41ff9258e6d2854ded8e"
      },
      "text/plain": [
       "Output()"
      ]
     },
     "metadata": {}
    },
    {
     "output_type": "stream",
     "name": "stdout",
     "text": [
      "Blue line is number of emerged leaf populations\n",
      "Green vertical lines are start of leaf emergence\n",
      "Orange vertical lines are end of leaf emergence\n",
      "Blue vertical lines are start of leaf senesence\n",
      "Red vertical lines are end of leaf lifespan\n"
     ]
    }
   ],
   "metadata": {}
  },
  {
   "cell_type": "markdown",
   "source": [
    "# As a function of DVI\n",
    "We need to be able to define each value at the hourly simulation rather than calculating knowing later data.\n",
    "\n",
    "- SGS/sowing day at DVI = -1\n",
    "- EGS = DVI = 2\n",
    "- growing_season = EGS - SGS\n",
    "- Astart = 0.55 * growing_season = 0.65dvi\n"
   ],
   "metadata": {}
  },
  {
   "cell_type": "code",
   "execution_count": 229,
   "source": [
    "# Assume that f_phen_d = dvi=-1 -> dvi=2\n",
    " # therefore tt_emr = f_phen_a\n",
    "\n",
    "Astart = 0.55 * (2 - -1) + -1\n",
    "Astart  # = 0.65 Therefore Astart at dvi = 0.65\n",
    "# Flag leaf fully developed at dvi = 0.65\n",
    "# Flag leaf t_lma = 2 - Astart = 1.35\n",
    "# All leaf emergence between dvi=0 and dvi=0.65"
   ],
   "outputs": [
    {
     "output_type": "execute_result",
     "data": {
      "text/plain": [
       "0.6500000000000001"
      ]
     },
     "metadata": {},
     "execution_count": 229
    }
   ],
   "metadata": {}
  },
  {
   "cell_type": "code",
   "execution_count": 230,
   "source": [
    "# Calculate DVI\n",
    "from do3se_phenology.phyllochron_dvi import calc_dvi\n",
    "row_count = len(td)\n",
    "dd_full = np.arange(row_count)\n",
    "hr_full = np.zeros(row_count)\n",
    "dvi = [-1]\n",
    "rpe = np.ones(row_count)\n",
    "teff = np.ones(row_count) * 18\n",
    "tt_emr, tt_veg, tt_rep = [75, 1000, 666]\n",
    "sowing_day = 1\n",
    "for t, rp, d, hr in zip(teff, rpe, dd_full, hr_full):\n",
    "  if hr == 0:\n",
    "    new_dvi = calc_dvi(dvi[-1],t, tt_emr, tt_veg, tt_rep, rp,d, sowing_day)\n",
    "    dvi.append(new_dvi)\n",
    "dvi = np.array(dvi)\n",
    "# plt.xlim(sowing_day - 5, sowing_day+120)\n",
    "plt.plot(dvi)\n",
    "plt.xlabel(\"Days\")\n",
    "plt.ylabel(\"DVI\")\n",
    "plt.show()\n",
    "\n"
   ],
   "outputs": [
    {
     "output_type": "display_data",
     "data": {
      "image/png": "[encoded data removed]",
      "text/plain": [
       "<Figure size 432x288 with 1 Axes>"
      ]
     },
     "metadata": {
      "needs_background": "light"
     }
    }
   ],
   "metadata": {}
  },
  {
   "cell_type": "code",
   "execution_count": 231,
   "source": [
    "nP = 3\n",
    "leaf_pop_emerged = [ceil((i)*nP) if 0< i < 1 else nP if 0 < i else 0 for i in dvi]\n",
    "plt.plot(dvi)\n",
    "plt.plot(leaf_pop_emerged)"
   ],
   "outputs": [
    {
     "output_type": "execute_result",
     "data": {
      "text/plain": [
       "[<matplotlib.lines.Line2D at 0x7fd822788bb0>]"
      ]
     },
     "metadata": {},
     "execution_count": 231
    },
    {
     "output_type": "display_data",
     "data": {
      "image/png": "[encoded data removed]",
      "text/plain": [
       "<Figure size 432x288 with 1 Axes>"
      ]
     },
     "metadata": {
      "needs_background": "light"
     }
    }
   ],
   "metadata": {}
  },
  {
   "cell_type": "code",
   "execution_count": 234,
   "source": [
    "nP = 1\n",
    "plt.figure(figsize=(24,12))\n",
    "print(nP)\n",
    "assert Astart - 0.65 < 0.001\n",
    "\n",
    "t_lma_flag = 2 - Astart\n",
    "t_lem_flag = 0.2 # t_lma_flag * 1.8/3.5 # TODO: How do we find the length of emergence for flag leaf?\n",
    "t_l_flag = t_lma_flag + t_lem_flag\n",
    "print(t_lma_flag, t_lem_flag, t_l_flag)\n",
    "\n",
    "t_lma_flag, t_lem_flag, t_l_flag\n",
    "\n",
    "last_t_emerg = Astart - t_lem_flag\n",
    "print(f\"last_t_emerg: {last_t_emerg}\")\n",
    "\n",
    "first_t_emerg = 0\n",
    "growth_rate = (nP-1) / (last_t_emerg - first_t_emerg)\n",
    "\n",
    "emerged_leaf_count = np.ceil(dvi * growth_rate)\n",
    "\n",
    "# Emergence dates (function of DVI)\n",
    "leaf_population_t_emerg = np.array( [d for (i, c), d in zip(enumerate(emerged_leaf_count), dvi) if c >= 0 and c > emerged_leaf_count[i-1] and c <= nP])\n",
    "print(leaf_population_t_emerg)\n",
    "assert len(leaf_population_t_emerg) == nP\n",
    "# assert leaf_population_t_emerg[0] == next(d for d in dvi if -0.1 < d < 0.1)\n",
    "# assert isclose(leaf_population_t_emerg[-1],last_t_emerg, abs_tol=1e-1)\n",
    "\n",
    "t_lem = t_lem_flag # TODO: How do we define flag leaf length\n",
    "# Emergence to fully grown (function of DVI)\n",
    "leaf_population_t_lems = [t_lem for _ in range(nP-1)] + [t_lem_flag]\n",
    "print(leaf_population_t_lems)\n",
    "\n",
    "\n",
    "growing_populations_all = [get_growing_populations(nP, d, leaf_population_t_emerg, leaf_population_t_lems) for d in dvi]\n",
    "\n",
    "\n",
    "# x = (dd_full + sowing_day).tolist() + [0]\n",
    "\n",
    "# for iP in range(nP):\n",
    "#     b = np.array([g[iP] for g in growing_populations_all])\n",
    "#     plt.fill_between(x, iP+0.2, iP+0.2 + (b*0.5), label=iP)\n",
    "#     plt.legend()\n",
    "    \n",
    "    \n",
    "for iP in range(nP-1):\n",
    "    vert_line(plt, leaf_population_t_emerg[iP], [iP, iP+1], c=\"green\")\n",
    "    vert_line(plt, leaf_population_t_emerg[iP] + leaf_population_t_lems[iP], [iP, iP+1], c=\"orange\")\n",
    "    vert_line(plt, leaf_population_t_emerg[iP] + t_l_flag, [iP, iP+1], c=\"red\")\n",
    "\n",
    "vert_line(plt, leaf_population_t_emerg[nP-1], [nP-1, nP-1+1], c=\"green\")\n",
    "vert_line(plt, leaf_population_t_emerg[nP-1] + leaf_population_t_lems[nP-1], [nP-1, nP-1+1], c=\"orange\")\n",
    "vert_line(plt, leaf_population_t_emerg[nP-1] + t_l_flag, [nP-1, nP-1+1], c=\"red\")\n",
    "\n",
    "\n",
    "\n",
    "# plt.ylim((-0.99,2.01))\n",
    "plt.scatter(dvi, emerged_leaf_count)\n",
    "plt.show()\n"
   ],
   "outputs": [
    {
     "output_type": "stream",
     "name": "stdout",
     "text": [
      "1\n",
      "1.3499999999999999 0.2 1.5499999999999998\n",
      "last_t_emerg: 0.4500000000000001\n",
      "[]\n"
     ]
    },
    {
     "output_type": "error",
     "ename": "AssertionError",
     "evalue": "",
     "traceback": [
      "\u001b[0;31m---------------------------------------------------------------------------\u001b[0m",
      "\u001b[0;31mAssertionError\u001b[0m                            Traceback (most recent call last)",
      "\u001b[0;32m<ipython-input-234-43fbb0b86b59>\u001b[0m in \u001b[0;36m<module>\u001b[0;34m\u001b[0m\n\u001b[1;32m     22\u001b[0m \u001b[0mleaf_population_t_emerg\u001b[0m \u001b[0;34m=\u001b[0m \u001b[0mnp\u001b[0m\u001b[0;34m.\u001b[0m\u001b[0marray\u001b[0m\u001b[0;34m(\u001b[0m \u001b[0;34m[\u001b[0m\u001b[0md\u001b[0m \u001b[0;32mfor\u001b[0m \u001b[0;34m(\u001b[0m\u001b[0mi\u001b[0m\u001b[0;34m,\u001b[0m \u001b[0mc\u001b[0m\u001b[0;34m)\u001b[0m\u001b[0;34m,\u001b[0m \u001b[0md\u001b[0m \u001b[0;32min\u001b[0m \u001b[0mzip\u001b[0m\u001b[0;34m(\u001b[0m\u001b[0menumerate\u001b[0m\u001b[0;34m(\u001b[0m\u001b[0memerged_leaf_count\u001b[0m\u001b[0;34m)\u001b[0m\u001b[0;34m,\u001b[0m \u001b[0mdvi\u001b[0m\u001b[0;34m)\u001b[0m \u001b[0;32mif\u001b[0m \u001b[0mc\u001b[0m \u001b[0;34m>=\u001b[0m \u001b[0;36m0\u001b[0m \u001b[0;32mand\u001b[0m \u001b[0mc\u001b[0m \u001b[0;34m>\u001b[0m \u001b[0memerged_leaf_count\u001b[0m\u001b[0;34m[\u001b[0m\u001b[0mi\u001b[0m\u001b[0;34m-\u001b[0m\u001b[0;36m1\u001b[0m\u001b[0;34m]\u001b[0m \u001b[0;32mand\u001b[0m \u001b[0mc\u001b[0m \u001b[0;34m<=\u001b[0m \u001b[0mnP\u001b[0m\u001b[0;34m]\u001b[0m\u001b[0;34m)\u001b[0m\u001b[0;34m\u001b[0m\u001b[0;34m\u001b[0m\u001b[0m\n\u001b[1;32m     23\u001b[0m \u001b[0mprint\u001b[0m\u001b[0;34m(\u001b[0m\u001b[0mleaf_population_t_emerg\u001b[0m\u001b[0;34m)\u001b[0m\u001b[0;34m\u001b[0m\u001b[0;34m\u001b[0m\u001b[0m\n\u001b[0;32m---> 24\u001b[0;31m \u001b[0;32massert\u001b[0m \u001b[0mlen\u001b[0m\u001b[0;34m(\u001b[0m\u001b[0mleaf_population_t_emerg\u001b[0m\u001b[0;34m)\u001b[0m \u001b[0;34m==\u001b[0m \u001b[0mnP\u001b[0m\u001b[0;34m\u001b[0m\u001b[0;34m\u001b[0m\u001b[0m\n\u001b[0m\u001b[1;32m     25\u001b[0m \u001b[0;31m# assert leaf_population_t_emerg[0] == next(d for d in dvi if -0.1 < d < 0.1)\u001b[0m\u001b[0;34m\u001b[0m\u001b[0;34m\u001b[0m\u001b[0;34m\u001b[0m\u001b[0m\n\u001b[1;32m     26\u001b[0m \u001b[0;31m# assert isclose(leaf_population_t_emerg[-1],last_t_emerg, abs_tol=1e-1)\u001b[0m\u001b[0;34m\u001b[0m\u001b[0;34m\u001b[0m\u001b[0;34m\u001b[0m\u001b[0m\n",
      "\u001b[0;31mAssertionError\u001b[0m: "
     ]
    },
    {
     "output_type": "display_data",
     "data": {
      "text/plain": [
       "<Figure size 1728x864 with 0 Axes>"
      ]
     },
     "metadata": {}
    }
   ],
   "metadata": {}
  }
 ],
 "metadata": {
  "orig_nbformat": 4,
  "language_info": {
   "name": "python",
   "version": "3.8.5",
   "mimetype": "text/x-python",
   "codemirror_mode": {
    "name": "ipython",
    "version": 3
   },
   "pygments_lexer": "ipython3",
   "nbconvert_exporter": "python",
   "file_extension": ".py"
  },
  "kernelspec": {
   "name": "python3",
   "display_name": "Python 3.8.5 64-bit ('venv': venv)"
  },
  "interpreter": {
   "hash": "5c55f5c18676f06e0e8fd3b4e81a3cf05188ed8d108d1a0a43a9f2435b73baf0"
  }
 },
 "nbformat": 4,
 "nbformat_minor": 2
}