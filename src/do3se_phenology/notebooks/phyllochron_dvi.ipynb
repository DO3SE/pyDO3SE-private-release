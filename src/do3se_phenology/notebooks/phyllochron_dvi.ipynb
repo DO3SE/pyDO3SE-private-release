{
 "metadata": {
  "language_info": {
   "codemirror_mode": {
    "name": "ipython",
    "version": 3
   },
   "file_extension": ".py",
   "mimetype": "text/x-python",
   "name": "python",
   "nbconvert_exporter": "python",
   "pygments_lexer": "ipython3",
   "version": "3.8.5"
  },
  "orig_nbformat": 2,
  "kernelspec": {
   "name": "pythonjvsc74a57bd05c55f5c18676f06e0e8fd3b4e81a3cf05188ed8d108d1a0a43a9f2435b73baf0",
   "display_name": "Python 3.8.5 64-bit ('venv': venv)"
  },
  "metadata": {
   "interpreter": {
    "hash": "5c55f5c18676f06e0e8fd3b4e81a3cf05188ed8d108d1a0a43a9f2435b73baf0"
   }
  }
 },
 "nbformat": 4,
 "nbformat_minor": 2,
 "cells": [
  {
   "cell_type": "code",
   "execution_count": 1,
   "source": [
    "import sys\n",
    "sys.path.append(\"../\") # go to parent dir"
   ],
   "outputs": [],
   "metadata": {}
  },
  {
   "cell_type": "code",
   "execution_count": 2,
   "source": [
    "FILENAME=\"phyllochron_DVI\"\n",
    "GIT_USER_NAME=\"SEI-DO3SE\"\n",
    "GIT_REPO_NAME=\"do3se_phenology\"\n",
    "DEPENDENCIES=[\n",
    "    (\"thermal_time\", \"github.com/SEI-DO3SE/thermal_time.git\"),\n",
    "    (\"do3se_phenology\", \"github.com/SEI-DO3SE/do3se_phenology.git\"),\n",
    "    (\"do3se_met\", \"github.com/SEI-DO3SE/do3se_met.git\"),\n",
    "    (\"notebook_utils\", \"github.com/sbland/notebook_utils.git\"),\n",
    "]"
   ],
   "outputs": [],
   "metadata": {}
  },
  {
   "cell_type": "code",
   "execution_count": 3,
   "source": [
    "# Create colab link\n",
    "from IPython.display import Markdown as md\n",
    "md(f\"\"\"\n",
    "<a href=\"https://colab.research.google.com/github/{GIT_USER_NAME}/{GIT_REPO_NAME}/blob/master/notebooks/{FILENAME}.ipynb\" target=\"_parent\">\n",
    "    <img src=\"https://colab.research.google.com/assets/colab-badge.svg\"/>\n",
    "</a>\n",
    "\"\"\")"
   ],
   "outputs": [
    {
     "output_type": "execute_result",
     "data": {
      "text/plain": [
       "<IPython.core.display.Markdown object>"
      ],
      "text/markdown": [
       "\n",
       "<a href=\"https://colab.research.google.com/github/SEI-DO3SE/do3se_phenology/blob/master/notebooks/phyllochron_DVI.ipynb\" target=\"_parent\">\n",
       "    <img src=\"https://colab.research.google.com/assets/colab-badge.svg\"/>\n",
       "</a>\n"
      ]
     },
     "metadata": {},
     "execution_count": 3
    }
   ],
   "metadata": {}
  },
  {
   "cell_type": "code",
   "execution_count": 4,
   "source": [
    "#@title Download libraries from github\n",
    "#@markdown Code Hidden\n",
    "try:\n",
    "    import importlib\n",
    "    for name, path in DEPENDENCIES:\n",
    "        importlib.import_module(name)\n",
    "except (ImportError, ModuleNotFoundError):\n",
    "    if 'google.colab' in str(get_ipython()):\n",
    "        print('Running on CoLab')\n",
    "        print(\"\"\"\n",
    "        This notebook requires access to private repositories. To access follow the steps below:\n",
    "        1. Get an access key from your github account: https://docs.github.com/en/github/authenticating-to-github/creating-a-personal-access-token\n",
    "        2. Save the key to a file in the following location on your google drive: `My Drive/access/collabaccess.txt`. The file should include your user on the first line and your token on the second.\n",
    "        \"\"\")\n",
    "        from google.colab import drive\n",
    "        drive.mount('/content/drive')\n",
    "\n",
    "        !mkdir -p ~/.access\n",
    "        !cp \"/content/drive/My Drive/access/collabaccess.txt\" ~/.access/config\n",
    "        import os\n",
    "        creds = open(f'{os.path.expanduser(\"~\")}/.access/config')\n",
    "        creds_parsed = creds.read().splitlines()\n",
    "        user, token = creds_parsed\n",
    "        for name, path in DEPENDENCIES:\n",
    "            !pip install git+https://{user}:{token}@{path}\n",
    "        creds.close()\n",
    "        creds = None\n",
    "        creds_parsed = None"
   ],
   "outputs": [],
   "metadata": {}
  },
  {
   "cell_type": "code",
   "execution_count": 17,
   "source": [
    "import pandas as pd\n",
    "from matplotlib import pyplot as plt\n",
    "from collections import namedtuple\n",
    "from dataclasses import dataclass\n",
    "from typing import List\n",
    "from itertools import accumulate\n",
    "import numpy as np\n",
    "from functools import partial\n",
    "from notebook_utils import *\n",
    "from _utils import interact_plus_reset\n",
    "import ipywidgets as widgets"
   ],
   "outputs": [],
   "metadata": {}
  },
  {
   "cell_type": "code",
   "execution_count": 6,
   "source": [
    "%load_ext autoreload\n",
    "%autoreload 2\n",
    "\n",
    "from do3se_phenology.phyllochron_dvi import *\n"
   ],
   "outputs": [],
   "metadata": {}
  },
  {
   "cell_type": "code",
   "execution_count": 7,
   "source": [
    "# Demo data\n",
    "day_count = 365\n",
    "lat = 20\n",
    "demo_temp_data = [18 for _ in range(1253)]\n",
    "accumulated_temperatures = list(accumulate(demo_temp_data))\n",
    "dd_data = np.array([[d for i in range(24)] for d in range(day_count)]).reshape(day_count * 24)\n",
    "hrs_data = np.array([[i for i in range(24)] for d in range(day_count)]).reshape(day_count * 24)\n",
    "demo_temp_data = [24-abs(hr-12) for hr in hrs_data]\n",
    "demo_temp_data[0:30]\n",
    "plt.plot(demo_temp_data)\n",
    " \n"
   ],
   "outputs": [
    {
     "output_type": "execute_result",
     "data": {
      "text/plain": [
       "[<matplotlib.lines.Line2D at 0x7fb7bf5c0370>]"
      ]
     },
     "metadata": {},
     "execution_count": 7
    },
    {
     "output_type": "display_data",
     "data": {
      "text/plain": [
       "<Figure size 432x288 with 1 Axes>"
      ],
      "image/png": "[encoded data removed]"
     },
     "metadata": {
      "needs_background": "light"
     }
    }
   ],
   "metadata": {}
  },
  {
   "cell_type": "code",
   "execution_count": 8,
   "source": [
    "from do3se_met.irradiance import *\n",
    "from thermal_time.calcs import *"
   ],
   "outputs": [],
   "metadata": {}
  },
  {
   "cell_type": "code",
   "execution_count": 9,
   "source": [
    "# Calc thermal time\n",
    "T_b, T_o, T_m = [0,20,50]\n",
    "lat = 50\n",
    "p_crit=24\n",
    "p_sens=0\n",
    "tsc = demo_temp_data\n",
    "td = calc_thermal_time_range(tsc, T_b)\n",
    "teff = [calc_effective_temperature(tsc[d*24:(d+1)*24],T_b, T_o, T_m) for d in dd_data]"
   ],
   "outputs": [],
   "metadata": {}
  },
  {
   "cell_type": "code",
   "execution_count": 10,
   "source": [
    "plt.plot(teff)"
   ],
   "outputs": [
    {
     "output_type": "execute_result",
     "data": {
      "text/plain": [
       "[<matplotlib.lines.Line2D at 0x7fb7bfa0a730>]"
      ]
     },
     "metadata": {},
     "execution_count": 10
    },
    {
     "output_type": "display_data",
     "data": {
      "text/plain": [
       "<Figure size 432x288 with 1 Axes>"
      ],
      "image/png": "[encoded data removed]"
     },
     "metadata": {
      "needs_background": "light"
     }
    }
   ],
   "metadata": {}
  },
  {
   "cell_type": "code",
   "execution_count": 11,
   "source": [
    "photoperiod = [calc_photoperiod(dd, lat) for dd in dd_data]\n",
    "rpe = [calc_rpe(p_crit=p_crit, p_sens=p_sens, p=P) for P in photoperiod]"
   ],
   "outputs": [],
   "metadata": {}
  },
  {
   "cell_type": "code",
   "execution_count": 12,
   "source": [
    "\n",
    "dvi = [-1]\n",
    "tt_emr, tt_veg, tt_rep = [35, 1000, 666]\n",
    "sowing_day = 100\n",
    "for t, rp, d, hr in zip(teff, rpe, dd_data, hrs_data):\n",
    "  if hr == 0:\n",
    "    new_dvi = calc_dvi(dvi[-1],t, tt_emr, tt_veg, tt_rep, rp,d, sowing_day)\n",
    "    dvi.append(new_dvi)\n",
    "plt.xlim(sowing_day - 5, sowing_day+120)\n",
    "plt.plot(dvi)\n",
    "plt.xlabel(\"Days\")\n",
    "plt.ylabel(\"DVI\")\n",
    "plt.show()\n",
    "len(dvi)"
   ],
   "outputs": [
    {
     "output_type": "display_data",
     "data": {
      "text/plain": [
       "<Figure size 432x288 with 1 Axes>"
      ],
      "image/png": "[encoded data removed]"
     },
     "metadata": {
      "needs_background": "light"
     }
    },
    {
     "output_type": "execute_result",
     "data": {
      "text/plain": [
       "366"
      ]
     },
     "metadata": {},
     "execution_count": 12
    }
   ],
   "metadata": {}
  },
  {
   "cell_type": "code",
   "execution_count": 13,
   "source": [
    "emergence_day = next(dz for dz, dv in enumerate(dvi) if dv > 0)\n",
    "phyllochron = calc_phyllochron(photoperiod[emergence_day] - photoperiod[emergence_day-1])\n"
   ],
   "outputs": [],
   "metadata": {}
  },
  {
   "cell_type": "code",
   "execution_count": 18,
   "source": [
    "#@title Life stage from td_data\n",
    "@interact_plus_reset(\n",
    "  tt_emr = widgets.FloatSlider(min=1, max=2000, value=35, step=1), \n",
    "  tt_veg = widgets.FloatSlider(min=1, max=2000, value=1000, step=1), \n",
    "  tt_rep = widgets.FloatSlider(min=1, max=2000, value=666, step=1), \n",
    "  sowing_day = widgets.FloatSlider(min=1, max=365, value=100, step=1),   \n",
    ")\n",
    "def run(tt_emr, tt_veg, tt_rep, sowing_day):\n",
    "  dvi = [-1]\n",
    "  for t, rp, d, hr in zip(teff, rpe, dd_data, hrs_data):\n",
    "    if hr == 0:\n",
    "      new_dvi = calc_dvi(dvi[-1],t, tt_emr, tt_veg, tt_rep, rp,d, sowing_day)\n",
    "      dvi.append(new_dvi)\n",
    "  plt.xlim(sowing_day - 5, sowing_day+120)\n",
    "  plt.plot(dvi)\n",
    "  plt.xlabel(\"Days\")\n",
    "  plt.ylabel(\"DVI\")\n",
    "\n",
    "  emergence_day = next(dz for dz, dv in enumerate(dvi) if dv > 0)\n",
    "  phyllochron = calc_phyllochron(photoperiod[emergence_day] - photoperiod[emergence_day-1])\n",
    "  life_stages = calc_life_stages_from_phyllochron(phyllochron, t_lse_constant=0.3)\n",
    "  life_stages\n",
    "  plt.show()\n"
   ],
   "outputs": [
    {
     "output_type": "display_data",
     "data": {
      "text/plain": [
       "Button(description='Reset', style=ButtonStyle())"
      ],
      "application/vnd.jupyter.widget-view+json": {
       "version_major": 2,
       "version_minor": 0,
       "model_id": "902176fa7f4840e2ac2f690e8efe3822"
      }
     },
     "metadata": {}
    },
    {
     "output_type": "display_data",
     "data": {
      "text/plain": [
       "VBox(children=(HBox(children=(Label(value='tt_emr'), FloatSlider(value=35.0, max=2000.0, min=1.0, step=1.0)), …"
      ],
      "application/vnd.jupyter.widget-view+json": {
       "version_major": 2,
       "version_minor": 0,
       "model_id": "b8940bd65c3d4e7b99b54f87d37c4b76"
      }
     },
     "metadata": {}
    },
    {
     "output_type": "display_data",
     "data": {
      "text/plain": [
       "Output()"
      ],
      "application/vnd.jupyter.widget-view+json": {
       "version_major": 2,
       "version_minor": 0,
       "model_id": "1ddabdca4ae64f6c85e47791bd19b4f3"
      }
     },
     "metadata": {}
    }
   ],
   "metadata": {}
  },
  {
   "cell_type": "code",
   "execution_count": 19,
   "source": [
    "t_lse_constant=0.3\n",
    "calc_life_stages_from_phyllochron(phyllochron, t_lse_constant=t_lse_constant)"
   ],
   "outputs": [
    {
     "output_type": "execute_result",
     "data": {
      "text/plain": [
       "output(t_l=509.61538461538464, t_lem=173.0769230769231, t_lep=235.5769230769231, t_lse=100.96153846153847, t_lma=336.53846153846155)"
      ]
     },
     "metadata": {},
     "execution_count": 19
    }
   ],
   "metadata": {}
  },
  {
   "cell_type": "code",
   "execution_count": 20,
   "source": [
    "td_daily = [td for td, hr in zip(td, hrs_data) if hr == 0]\n",
    "plt.plot(td_daily)"
   ],
   "outputs": [
    {
     "output_type": "execute_result",
     "data": {
      "text/plain": [
       "[<matplotlib.lines.Line2D at 0x7fb7a05bb2b0>]"
      ]
     },
     "metadata": {},
     "execution_count": 20
    },
    {
     "output_type": "display_data",
     "data": {
      "text/plain": [
       "<Figure size 432x288 with 1 Axes>"
      ],
      "image/png": "[encoded data removed]"
     },
     "metadata": {
      "needs_background": "light"
     }
    }
   ],
   "metadata": {}
  },
  {
   "cell_type": "code",
   "execution_count": 22,
   "source": [
    "#@title leaf_f_phen\n",
    "@interact_plus_reset(\n",
    "  tt_emr = widgets.FloatSlider(min=1, max=2000, value=35, step=1), \n",
    "  tt_veg = widgets.FloatSlider(min=1, max=2000, value=1000, step=1), \n",
    "  tt_rep = widgets.FloatSlider(min=1, max=2000, value=666, step=1), \n",
    "  t_astart=widgets.FloatSlider(min=1, max=2000, value=950, step=1),\n",
    "  td_at_sgs=widgets.FloatSlider(min=1, max=2000, value=100, step=1),\n",
    ")\n",
    "def get_t_l(\n",
    "    tt_emr, tt_veg, tt_rep,\n",
    "    t_astart,\n",
    "    td_at_sgs,\n",
    "):\n",
    "    # DVI\n",
    "    fig, axs = plt.subplots(ncols=2, figsize=(24,8))\n",
    "    dvi = [-1]\n",
    "    for t, rp, d, hr in zip(teff, rpe, dd_data, hrs_data):\n",
    "        if hr == 0:\n",
    "            new_dvi = calc_dvi(dvi[-1],t, tt_emr, tt_veg, tt_rep, rp,d, sowing_day)\n",
    "            dvi.append(new_dvi)\n",
    "    \n",
    "\n",
    "    axs[0].plot(td_daily, dvi[1:])\n",
    "    axs[0].set_xlabel(\"Days\")\n",
    "    axs[0].set_ylabel(\"DVI\")\n",
    "\n",
    "    # t_l\n",
    "    t_lse_constant=0.3\n",
    "    LS = calc_life_stages_from_phyllochron(phyllochron, t_lse_constant=t_lse_constant)\n",
    "    td_dd_list = [t - t_astart - td_at_sgs for t in td]\n",
    "    f_LA = [max(0,min(1,1 - (td_dd - LS.t_lem) / (LS.t_lma))) for td_dd in td_dd_list]\n",
    "    fO3_l = 1\n",
    "    f_LS = [max(0,min(1,1 - ((td_dd - LS.t_lem - LS.t_lep) / (LS.t_lma / fO3_l - LS.t_lep)))) for td_dd in td_dd_list]\n",
    "\n",
    "    axs[1].plot(td, f_LA, label=\"f_LA\")\n",
    "    axs[1].plot(td, f_LS, label=\"f_LS\")\n",
    "    axs[1].axvline(td_at_sgs + t_astart + LS.t_l, linestyle='dotted', color=\"red\")\n",
    "    axs[1].text(td_at_sgs + t_astart + LS.t_l, 0.5, 't_l', rotation=45, color=\"red\")\n",
    "    axs[1].axvline(td_at_sgs + t_astart, linestyle='dotted', color=\"green\")\n",
    "    axs[1].text(td_at_sgs + t_astart, 0.5, 't_Astart', rotation=45, color=\"green\")\n",
    "\n",
    "    plt.legend()\n",
    "\n",
    "    # DVI\n",
    "    plt.show()"
   ],
   "outputs": [
    {
     "output_type": "display_data",
     "data": {
      "text/plain": [
       "Button(description='Reset', style=ButtonStyle())"
      ],
      "application/vnd.jupyter.widget-view+json": {
       "version_major": 2,
       "version_minor": 0,
       "model_id": "3a81b99fb1a04d9999e83fdc1b61fb09"
      }
     },
     "metadata": {}
    },
    {
     "output_type": "display_data",
     "data": {
      "text/plain": [
       "VBox(children=(HBox(children=(Label(value='tt_emr'), FloatSlider(value=35.0, max=2000.0, min=1.0, step=1.0)), …"
      ],
      "application/vnd.jupyter.widget-view+json": {
       "version_major": 2,
       "version_minor": 0,
       "model_id": "4a3387c675bf4e7fa3a842acaa7e858b"
      }
     },
     "metadata": {}
    },
    {
     "output_type": "display_data",
     "data": {
      "text/plain": [
       "Output()"
      ],
      "application/vnd.jupyter.widget-view+json": {
       "version_major": 2,
       "version_minor": 0,
       "model_id": "820492dd0ea141b3979c58481ffc5005"
      }
     },
     "metadata": {}
    }
   ],
   "metadata": {}
  },
  {
   "cell_type": "code",
   "execution_count": null,
   "source": [],
   "outputs": [],
   "metadata": {}
  }
 ]
}