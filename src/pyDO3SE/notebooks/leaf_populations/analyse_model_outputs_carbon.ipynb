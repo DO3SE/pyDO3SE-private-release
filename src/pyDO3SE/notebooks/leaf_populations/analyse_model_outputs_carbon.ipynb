{
 "cells": [
  {
   "cell_type": "code",
   "execution_count": 70,
   "source": [
    "import numpy as np\n",
    "import pandas as pd\n",
    "from matplotlib import pyplot as plt"
   ],
   "outputs": [],
   "metadata": {}
  },
  {
   "cell_type": "code",
   "execution_count": 71,
   "source": [
    "OUT_FILE_LOC = 'examples/bangor_2015_multilayer/outputs/bangor_2015_hb_ww/bangor_wheat/latest/bangor_wheat-bangor_2015_hb_ww_out.csv'\n",
    "nL = 4\n",
    "nP = 3"
   ],
   "outputs": [],
   "metadata": {}
  },
  {
   "cell_type": "code",
   "execution_count": 72,
   "source": [
    "df = pd.read_csv(OUT_FILE_LOC)\n",
    "df.head()"
   ],
   "outputs": [
    {
     "output_type": "execute_result",
     "data": {
      "text/plain": [
       "   Unnamed: 0  dd  ts_c  par   td  lai       sai  dvi  photoperiod  PARsun  \\\n",
       "0           0  71  5.36  0.0  0.0  0.0  5.657143 -1.0    12.701909     0.0   \n",
       "1           1  71  5.85  0.0  0.0  0.0  5.657143 -1.0    12.701909     0.0   \n",
       "2           2  71  5.88  0.0  0.0  0.0  5.657143 -1.0    12.701909     0.0   \n",
       "3           3  71  5.19  0.0  0.0  0.0  5.657143 -1.0    12.701909     0.0   \n",
       "4           4  71  5.90  0.0  0.0  0.0  5.657143 -1.0    12.701909     0.0   \n",
       "\n",
       "   ...  LAIsunfrac  component_LAI V_cmax  J_max  R_d  R_dc  \\\n",
       "0  ...         0.0            0.0    NaN    NaN  0.0   0.0   \n",
       "1  ...         0.0            0.0    NaN    NaN  0.0   0.0   \n",
       "2  ...         0.0            0.0    NaN    NaN  0.0   0.0   \n",
       "3  ...         0.0            0.0    NaN    NaN  0.0   0.0   \n",
       "4  ...         0.0            0.0    NaN    NaN  0.0   0.0   \n",
       "\n",
       "   total_emerged_leaves                              leaf_pop_distribution  \\\n",
       "0                     0  [[0. 0. 0.]\\n [0. 0. 0.]\\n [0. 0. 0.]\\n [0. 0....   \n",
       "1                     0  [[0. 0. 0.]\\n [0. 0. 0.]\\n [0. 0. 0.]\\n [0. 0....   \n",
       "2                     0  [[0. 0. 0.]\\n [0. 0. 0.]\\n [0. 0. 0.]\\n [0. 0....   \n",
       "3                     0  [[0. 0. 0.]\\n [0. 0. 0.]\\n [0. 0. 0.]\\n [0. 0....   \n",
       "4                     0  [[0. 0. 0.]\\n [0. 0. 0.]\\n [0. 0. 0.]\\n [0. 0....   \n",
       "\n",
       "     growing_populations             layer_lai  \n",
       "0  [False, False, False]  [0.0, 0.0, 0.0, 0.0]  \n",
       "1  [False, False, False]  [0.0, 0.0, 0.0, 0.0]  \n",
       "2  [False, False, False]  [0.0, 0.0, 0.0, 0.0]  \n",
       "3  [False, False, False]  [0.0, 0.0, 0.0, 0.0]  \n",
       "4  [False, False, False]  [0.0, 0.0, 0.0, 0.0]  \n",
       "\n",
       "[5 rows x 78 columns]"
      ],
      "text/html": [
       "<div>\n",
       "<style scoped>\n",
       "    .dataframe tbody tr th:only-of-type {\n",
       "        vertical-align: middle;\n",
       "    }\n",
       "\n",
       "    .dataframe tbody tr th {\n",
       "        vertical-align: top;\n",
       "    }\n",
       "\n",
       "    .dataframe thead th {\n",
       "        text-align: right;\n",
       "    }\n",
       "</style>\n",
       "<table border=\"1\" class=\"dataframe\">\n",
       "  <thead>\n",
       "    <tr style=\"text-align: right;\">\n",
       "      <th></th>\n",
       "      <th>Unnamed: 0</th>\n",
       "      <th>dd</th>\n",
       "      <th>ts_c</th>\n",
       "      <th>par</th>\n",
       "      <th>td</th>\n",
       "      <th>lai</th>\n",
       "      <th>sai</th>\n",
       "      <th>dvi</th>\n",
       "      <th>photoperiod</th>\n",
       "      <th>PARsun</th>\n",
       "      <th>...</th>\n",
       "      <th>LAIsunfrac</th>\n",
       "      <th>component_LAI</th>\n",
       "      <th>V_cmax</th>\n",
       "      <th>J_max</th>\n",
       "      <th>R_d</th>\n",
       "      <th>R_dc</th>\n",
       "      <th>total_emerged_leaves</th>\n",
       "      <th>leaf_pop_distribution</th>\n",
       "      <th>growing_populations</th>\n",
       "      <th>layer_lai</th>\n",
       "    </tr>\n",
       "  </thead>\n",
       "  <tbody>\n",
       "    <tr>\n",
       "      <th>0</th>\n",
       "      <td>0</td>\n",
       "      <td>71</td>\n",
       "      <td>5.36</td>\n",
       "      <td>0.0</td>\n",
       "      <td>0.0</td>\n",
       "      <td>0.0</td>\n",
       "      <td>5.657143</td>\n",
       "      <td>-1.0</td>\n",
       "      <td>12.701909</td>\n",
       "      <td>0.0</td>\n",
       "      <td>...</td>\n",
       "      <td>0.0</td>\n",
       "      <td>0.0</td>\n",
       "      <td>NaN</td>\n",
       "      <td>NaN</td>\n",
       "      <td>0.0</td>\n",
       "      <td>0.0</td>\n",
       "      <td>0</td>\n",
       "      <td>[[0. 0. 0.]\\n [0. 0. 0.]\\n [0. 0. 0.]\\n [0. 0....</td>\n",
       "      <td>[False, False, False]</td>\n",
       "      <td>[0.0, 0.0, 0.0, 0.0]</td>\n",
       "    </tr>\n",
       "    <tr>\n",
       "      <th>1</th>\n",
       "      <td>1</td>\n",
       "      <td>71</td>\n",
       "      <td>5.85</td>\n",
       "      <td>0.0</td>\n",
       "      <td>0.0</td>\n",
       "      <td>0.0</td>\n",
       "      <td>5.657143</td>\n",
       "      <td>-1.0</td>\n",
       "      <td>12.701909</td>\n",
       "      <td>0.0</td>\n",
       "      <td>...</td>\n",
       "      <td>0.0</td>\n",
       "      <td>0.0</td>\n",
       "      <td>NaN</td>\n",
       "      <td>NaN</td>\n",
       "      <td>0.0</td>\n",
       "      <td>0.0</td>\n",
       "      <td>0</td>\n",
       "      <td>[[0. 0. 0.]\\n [0. 0. 0.]\\n [0. 0. 0.]\\n [0. 0....</td>\n",
       "      <td>[False, False, False]</td>\n",
       "      <td>[0.0, 0.0, 0.0, 0.0]</td>\n",
       "    </tr>\n",
       "    <tr>\n",
       "      <th>2</th>\n",
       "      <td>2</td>\n",
       "      <td>71</td>\n",
       "      <td>5.88</td>\n",
       "      <td>0.0</td>\n",
       "      <td>0.0</td>\n",
       "      <td>0.0</td>\n",
       "      <td>5.657143</td>\n",
       "      <td>-1.0</td>\n",
       "      <td>12.701909</td>\n",
       "      <td>0.0</td>\n",
       "      <td>...</td>\n",
       "      <td>0.0</td>\n",
       "      <td>0.0</td>\n",
       "      <td>NaN</td>\n",
       "      <td>NaN</td>\n",
       "      <td>0.0</td>\n",
       "      <td>0.0</td>\n",
       "      <td>0</td>\n",
       "      <td>[[0. 0. 0.]\\n [0. 0. 0.]\\n [0. 0. 0.]\\n [0. 0....</td>\n",
       "      <td>[False, False, False]</td>\n",
       "      <td>[0.0, 0.0, 0.0, 0.0]</td>\n",
       "    </tr>\n",
       "    <tr>\n",
       "      <th>3</th>\n",
       "      <td>3</td>\n",
       "      <td>71</td>\n",
       "      <td>5.19</td>\n",
       "      <td>0.0</td>\n",
       "      <td>0.0</td>\n",
       "      <td>0.0</td>\n",
       "      <td>5.657143</td>\n",
       "      <td>-1.0</td>\n",
       "      <td>12.701909</td>\n",
       "      <td>0.0</td>\n",
       "      <td>...</td>\n",
       "      <td>0.0</td>\n",
       "      <td>0.0</td>\n",
       "      <td>NaN</td>\n",
       "      <td>NaN</td>\n",
       "      <td>0.0</td>\n",
       "      <td>0.0</td>\n",
       "      <td>0</td>\n",
       "      <td>[[0. 0. 0.]\\n [0. 0. 0.]\\n [0. 0. 0.]\\n [0. 0....</td>\n",
       "      <td>[False, False, False]</td>\n",
       "      <td>[0.0, 0.0, 0.0, 0.0]</td>\n",
       "    </tr>\n",
       "    <tr>\n",
       "      <th>4</th>\n",
       "      <td>4</td>\n",
       "      <td>71</td>\n",
       "      <td>5.90</td>\n",
       "      <td>0.0</td>\n",
       "      <td>0.0</td>\n",
       "      <td>0.0</td>\n",
       "      <td>5.657143</td>\n",
       "      <td>-1.0</td>\n",
       "      <td>12.701909</td>\n",
       "      <td>0.0</td>\n",
       "      <td>...</td>\n",
       "      <td>0.0</td>\n",
       "      <td>0.0</td>\n",
       "      <td>NaN</td>\n",
       "      <td>NaN</td>\n",
       "      <td>0.0</td>\n",
       "      <td>0.0</td>\n",
       "      <td>0</td>\n",
       "      <td>[[0. 0. 0.]\\n [0. 0. 0.]\\n [0. 0. 0.]\\n [0. 0....</td>\n",
       "      <td>[False, False, False]</td>\n",
       "      <td>[0.0, 0.0, 0.0, 0.0]</td>\n",
       "    </tr>\n",
       "  </tbody>\n",
       "</table>\n",
       "<p>5 rows × 78 columns</p>\n",
       "</div>"
      ]
     },
     "metadata": {},
     "execution_count": 72
    }
   ],
   "metadata": {}
  },
  {
   "cell_type": "code",
   "execution_count": 73,
   "source": [
    "df.columns"
   ],
   "outputs": [
    {
     "output_type": "execute_result",
     "data": {
      "text/plain": [
       "Index(['Unnamed: 0', 'dd', 'ts_c', 'par', 'td', 'lai', 'sai', 'dvi',\n",
       "       'photoperiod', 'PARsun', 'PARshade', 'A_n', 'A_n_limit_factor', 'fst',\n",
       "       'fst_acc', 'rsto_l', 'gsto_l', 'gsto', 'gsto_bulk', 'gsto_canopy',\n",
       "       'A_n_canopy', 'c_root', 'c_stem', 'c_leaf', 'c_harv', 'c_resv', 'npp',\n",
       "       'npp_acc', 'fO3_d', 'fO3_h', 'c_i', 'td_dd', 'o3_ppb', 'o3_nmol_m3',\n",
       "       'canopy_height', 'o3_ppb_i', 'pody', 'pod0', 'precip_acc', 'swp', 'asw',\n",
       "       'smd', 'sn', 'ei', 'et', 'pet', 'es', 'ei_acc', 'et_acc', 'pet_acc',\n",
       "       'es_acc', 'f_phen', 'leaf_f_phen', 'f_light', 'leaf_f_light', 'f_temp',\n",
       "       'f_VPD', 'f_SW', 'f_O3', 'ustar', 'rsto_c', 'ra', 'rb', 'rsur', 'rinc',\n",
       "       'V_cmax_25', 'J_max_25', 'f_LS', 'LAIsunfrac', 'component_LAI',\n",
       "       'V_cmax', 'J_max', 'R_d', 'R_dc', 'total_emerged_leaves',\n",
       "       'leaf_pop_distribution', 'growing_populations', 'layer_lai'],\n",
       "      dtype='object')"
      ]
     },
     "metadata": {},
     "execution_count": 73
    }
   ],
   "metadata": {}
  },
  {
   "cell_type": "code",
   "execution_count": 74,
   "source": [
    "# split leaf_pop_distribution column into multi d array\n",
    "import re\n",
    "r_pattern = \"\\[\" + \"\\n \".join([\"\\[\" + \" +?\".join([\"([\\d\\.e+-]+?)\" for _ in range(nP)]) + \" *?\\]\" for _ in range(nL)]) + \"\\]\"\n",
    "\n",
    "def split_leaf_lai(r):\n",
    "    try:\n",
    "        return np.array(re.search(r_pattern, r).groups()).reshape((nL,nP)).astype(float)\n",
    "    except ValueError as e:\n",
    "        print(\"Row failed value\")\n",
    "        print(r)\n",
    "        raise e\n",
    "    except AttributeError as e:\n",
    "        print(\"row failed (Could not find regex groups)\")\n",
    "        print(r)\n",
    "        raise e\n",
    "        \n",
    "\n",
    "print(df['leaf_pop_distribution'].iloc[1000])\n",
    "out = split_leaf_lai(df['leaf_pop_distribution'].iloc[1000])\n",
    "print(out.shape)\n",
    "print(out)\n",
    "\n",
    "leaf_pops_lai = np.array([split_leaf_lai(i) for i in df['leaf_pop_distribution']])\n",
    "leaf_pops_lai.shape, leaf_pops_lai[0]"
   ],
   "outputs": [
    {
     "output_type": "stream",
     "name": "stdout",
     "text": [
      "[[0.10035014 0.         0.        ]\n",
      " [0.         0.         0.        ]\n",
      " [0.         0.         0.        ]\n",
      " [0.         0.         0.        ]]\n",
      "(4, 3)\n",
      "[[0.10035014 0.         0.        ]\n",
      " [0.         0.         0.        ]\n",
      " [0.         0.         0.        ]\n",
      " [0.         0.         0.        ]]\n"
     ]
    },
    {
     "output_type": "execute_result",
     "data": {
      "text/plain": [
       "((3672, 4, 3),\n",
       " array([[0., 0., 0.],\n",
       "        [0., 0., 0.],\n",
       "        [0., 0., 0.],\n",
       "        [0., 0., 0.]]))"
      ]
     },
     "metadata": {},
     "execution_count": 74
    }
   ],
   "metadata": {}
  },
  {
   "cell_type": "code",
   "execution_count": 75,
   "source": [
    "# split growing_populations column into multi d array\n",
    "import re\n",
    "r_pattern = \"\\[(?:(\\w*), *?)(?:(\\w*), *?) (\\w*)\\]\"\n",
    "print(r_pattern)\n",
    "print(df['growing_populations'].iloc[1000])\n",
    "print(re.search(r_pattern, df['growing_populations'].iloc[1000]).groups())\n",
    "def split_leaf_lai(r):\n",
    "    try:\n",
    "        return np.array([1 if g == \"True\" else 0 for g in re.search(r_pattern, r).groups()])\n",
    "    except ValueError as e:\n",
    "        print(\"Row failed value\")\n",
    "        print(r)\n",
    "        raise e\n",
    "    except AttributeError as e:\n",
    "        print(\"row failed (Could not find regex groups)\")\n",
    "        print(r)\n",
    "        raise e\n",
    "        \n",
    "\n",
    "print(df['growing_populations'].iloc[1000])\n",
    "out = split_leaf_lai(df['growing_populations'].iloc[1000])\n",
    "print(out.shape)\n",
    "print(out)\n",
    "\n",
    "# leaf_pops_lai = np.array([split_leaf_lai(i) for i in df['growing_populations']])\n",
    "growing_populations = pd.DataFrame([split_leaf_lai(i) for i in df['growing_populations']])\n",
    "\n",
    "growing_populations.head()"
   ],
   "outputs": [
    {
     "output_type": "stream",
     "name": "stdout",
     "text": [
      "\\[(?:(\\w*), *?)(?:(\\w*), *?) (\\w*)\\]\n",
      "[True, False, False]\n",
      "('True', 'False', 'False')\n",
      "[True, False, False]\n",
      "(3,)\n",
      "[1 0 0]\n"
     ]
    },
    {
     "output_type": "execute_result",
     "data": {
      "text/plain": [
       "   0  1  2\n",
       "0  0  0  0\n",
       "1  0  0  0\n",
       "2  0  0  0\n",
       "3  0  0  0\n",
       "4  0  0  0"
      ],
      "text/html": [
       "<div>\n",
       "<style scoped>\n",
       "    .dataframe tbody tr th:only-of-type {\n",
       "        vertical-align: middle;\n",
       "    }\n",
       "\n",
       "    .dataframe tbody tr th {\n",
       "        vertical-align: top;\n",
       "    }\n",
       "\n",
       "    .dataframe thead th {\n",
       "        text-align: right;\n",
       "    }\n",
       "</style>\n",
       "<table border=\"1\" class=\"dataframe\">\n",
       "  <thead>\n",
       "    <tr style=\"text-align: right;\">\n",
       "      <th></th>\n",
       "      <th>0</th>\n",
       "      <th>1</th>\n",
       "      <th>2</th>\n",
       "    </tr>\n",
       "  </thead>\n",
       "  <tbody>\n",
       "    <tr>\n",
       "      <th>0</th>\n",
       "      <td>0</td>\n",
       "      <td>0</td>\n",
       "      <td>0</td>\n",
       "    </tr>\n",
       "    <tr>\n",
       "      <th>1</th>\n",
       "      <td>0</td>\n",
       "      <td>0</td>\n",
       "      <td>0</td>\n",
       "    </tr>\n",
       "    <tr>\n",
       "      <th>2</th>\n",
       "      <td>0</td>\n",
       "      <td>0</td>\n",
       "      <td>0</td>\n",
       "    </tr>\n",
       "    <tr>\n",
       "      <th>3</th>\n",
       "      <td>0</td>\n",
       "      <td>0</td>\n",
       "      <td>0</td>\n",
       "    </tr>\n",
       "    <tr>\n",
       "      <th>4</th>\n",
       "      <td>0</td>\n",
       "      <td>0</td>\n",
       "      <td>0</td>\n",
       "    </tr>\n",
       "  </tbody>\n",
       "</table>\n",
       "</div>"
      ]
     },
     "metadata": {},
     "execution_count": 75
    }
   ],
   "metadata": {}
  },
  {
   "cell_type": "markdown",
   "source": [
    "# Analyse emergence\n",
    "Leaf population start of emergenece is dstributed between the plant emergence and the flag leaf emergence.\n",
    "td_dd for each population is the thermal time since that population emerged.\n",
    "Populations continue to grow while their td_dd is between 0 and t_lem.\n",
    "We currently set t_lem either by the phyllochron at plant emergence or as a constant in the config.\n",
    "Plant leaf carbon is distributed between all the leaf populations that are currently emerging/growing."
   ],
   "metadata": {}
  },
  {
   "cell_type": "code",
   "execution_count": 76,
   "source": [
    "plt.figure(figsize=(14,12))\n",
    "td = df['td_dd'].values\n",
    "plt.plot(td, df['total_emerged_leaves'], label=\"total emerged leaf pops\")\n",
    "\n",
    "plt.plot(td, growing_populations.values[:,0] +13, label=\"pop 0 growth period\")\n",
    "plt.plot(td, growing_populations.values[:,1] +15, label=\"pop 1 growth period\")\n",
    "plt.plot(td, growing_populations.values[:,2] +18, label=\"pop 2 growth period\")\n",
    "\n",
    "plt.plot(td, growing_populations.sum(axis=1) + 10, label='Total growing leaf populations')\n",
    "plt.plot(td, df['lai'], label=\"lai\")\n",
    "plt.legend()\n",
    "plt.show()"
   ],
   "outputs": [
    {
     "output_type": "display_data",
     "data": {
      "text/plain": [
       "<Figure size 1008x864 with 1 Axes>"
      ],
      "image/png": "[encoded data removed]"
     },
     "metadata": {
      "needs_background": "light"
     }
    }
   ],
   "metadata": {}
  },
  {
   "cell_type": "code",
   "execution_count": 77,
   "source": [
    "c_leaf = df['c_leaf']\n",
    "plt.plot(c_leaf)"
   ],
   "outputs": [
    {
     "output_type": "execute_result",
     "data": {
      "text/plain": [
       "[<matplotlib.lines.Line2D at 0x7fc4b227b2e0>]"
      ]
     },
     "metadata": {},
     "execution_count": 77
    },
    {
     "output_type": "display_data",
     "data": {
      "text/plain": [
       "<Figure size 432x288 with 1 Axes>"
      ],
      "image/png": "[encoded data removed]"
     },
     "metadata": {
      "needs_background": "light"
     }
    }
   ],
   "metadata": {}
  },
  {
   "cell_type": "code",
   "execution_count": 78,
   "source": [
    "from pyDO3SE.plugins.carbon_allocation.calculations import calc_LAI_from_DVI_and_carbon"
   ],
   "outputs": [],
   "metadata": {}
  },
  {
   "cell_type": "code",
   "execution_count": 79,
   "source": [
    "lai = [calc_LAI_from_DVI_and_carbon(d, c, 27.3,-0.0507, 3) for d, c in zip(df['dvi'], df['c_leaf'])]\n",
    "plt.plot(lai)"
   ],
   "outputs": [
    {
     "output_type": "execute_result",
     "data": {
      "text/plain": [
       "[<matplotlib.lines.Line2D at 0x7fc4b1750850>]"
      ]
     },
     "metadata": {},
     "execution_count": 79
    },
    {
     "output_type": "display_data",
     "data": {
      "text/plain": [
       "<Figure size 432x288 with 1 Axes>"
      ],
      "image/png": "[encoded data removed]"
     },
     "metadata": {
      "needs_background": "light"
     }
    }
   ],
   "metadata": {}
  },
  {
   "cell_type": "code",
   "execution_count": 99,
   "source": [
    "# c_diff = np.array([1 if (a - b)<0 else 0 for a, b in zip(df['c_leaf'], df['c_leaf'].iloc[1:])])\n",
    "c_diff = np.array([(b-a) for a, b in zip(df['c_leaf'], df['c_leaf'].iloc[1:])])\n",
    "plt.plot(df['dvi'])\n",
    "plt.plot(df['f_phen'])\n",
    "plt.plot(df['leaf_f_phen'])\n",
    "plt.plot((c_diff*200)+2)"
   ],
   "outputs": [
    {
     "output_type": "execute_result",
     "data": {
      "text/plain": [
       "[<matplotlib.lines.Line2D at 0x7fc4aece7100>]"
      ]
     },
     "metadata": {},
     "execution_count": 99
    },
    {
     "output_type": "display_data",
     "data": {
      "text/plain": [
       "<Figure size 432x288 with 1 Axes>"
      ],
      "image/png": "[encoded data removed]"
     },
     "metadata": {
      "needs_background": "light"
     }
    }
   ],
   "metadata": {}
  },
  {
   "cell_type": "code",
   "execution_count": 81,
   "source": [
    "plt.plot(td, growing_populations.values[:,2], label=\"pop 2 growth period\")\n",
    "plt.plot(td, df['c_leaf'])\n",
    "plt.plot(td, df['leaf_f_phen'])\n",
    "plt.plot(td, df['total_emerged_leaves'], label=\"total emerged leaf pops\")\n",
    "plt.axvline(1188)\n"
   ],
   "outputs": [
    {
     "output_type": "execute_result",
     "data": {
      "text/plain": [
       "<matplotlib.lines.Line2D at 0x7fc4b168ad30>"
      ]
     },
     "metadata": {},
     "execution_count": 81
    },
    {
     "output_type": "display_data",
     "data": {
      "text/plain": [
       "<Figure size 432x288 with 1 Axes>"
      ],
      "image/png": "[encoded data removed]"
     },
     "metadata": {
      "needs_background": "light"
     }
    }
   ],
   "metadata": {}
  }
 ],
 "metadata": {
  "orig_nbformat": 4,
  "language_info": {
   "name": "python",
   "version": "3.8.5",
   "mimetype": "text/x-python",
   "codemirror_mode": {
    "name": "ipython",
    "version": 3
   },
   "pygments_lexer": "ipython3",
   "nbconvert_exporter": "python",
   "file_extension": ".py"
  },
  "kernelspec": {
   "name": "python3",
   "display_name": "Python 3.8.5 64-bit ('venv': venv)"
  },
  "interpreter": {
   "hash": "55af36d4526a3286a32996c88bb6725abcd0c30be6a05aa0e194610025ac8e52"
  }
 },
 "nbformat": 4,
 "nbformat_minor": 2
}