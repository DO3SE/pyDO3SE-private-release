{
 "metadata": {
  "language_info": {
   "codemirror_mode": {
    "name": "ipython",
    "version": 3
   },
   "file_extension": ".py",
   "mimetype": "text/x-python",
   "name": "python",
   "nbconvert_exporter": "python",
   "pygments_lexer": "ipython3",
   "version": "3.8.0-final"
  },
  "orig_nbformat": 2,
  "kernelspec": {
   "name": "python38064bitvenvvenv4b43fb24336341189f093bb3fbaa6049",
   "display_name": "Python 3.8.0 64-bit ('venv': venv)"
  }
 },
 "nbformat": 4,
 "nbformat_minor": 2,
 "cells": [
  {
   "cell_type": "code",
   "execution_count": 1,
   "metadata": {},
   "outputs": [],
   "source": [
    "from pyDO3SE.Defaults import default_processes"
   ]
  },
  {
   "cell_type": "code",
   "execution_count": 7,
   "metadata": {},
   "outputs": [],
   "source": [
    "\n",
    "from pyDO3SE.Model_State.Model_State import Model_State_Shape\n",
    "from pyDO3SE.External_State.external_state_loader import load_external_state\n",
    "from proflow.ProcessRunnerCls import ProcessRunner\n",
    "from pyDO3SE.Config.config_loader import config_loader\n",
    "from pyDO3SE.Defaults.state_init_processes import state_init_processes\n",
    "from pyDO3SE.Defaults.es_init_processes import external_state_init_processes\n",
    "from pyDO3SE.Defaults.default_processes import full_model_processes\n",
    "\n",
    "from pyDO3SE.Defaults.config_init_processes import config_init_processes"
   ]
  },
  {
   "cell_type": "code",
   "execution_count": 8,
   "metadata": {},
   "outputs": [],
   "source": [
    "\n",
    "DEMO_START_DAY = 0\n",
    "DEMO_END_DAY = 40\n",
    "HOURS_IN_DAY = 24\n",
    "DAYS_IN_YEAR = 365\n",
    "DAYS_TO_RUN = DEMO_END_DAY - DEMO_START_DAY\n",
    "HOURS_IN_YEAR = HOURS_IN_DAY * DAYS_IN_YEAR\n",
    "HOURS_TO_RUN = HOURS_IN_DAY * DAYS_TO_RUN\n",
    "EXT_DATA_COLS = [\n",
    "    # TODO: This should be based on the config\n",
    "    'PAR',\n",
    "    'VPD',\n",
    "    'Ts_C',\n",
    "    'u',\n",
    "    'P',\n",
    "    'O3',\n",
    "    'dd',\n",
    "    'hr',\n",
    "    'precip',\n",
    "]"
   ]
  },
  {
   "cell_type": "code",
   "execution_count": 9,
   "metadata": {},
   "outputs": [],
   "source": [
    "start_day = DEMO_START_DAY\n",
    "end_day = DEMO_END_DAY\n",
    "config_location = 'examples/spanish_wheat/spanish_wheat_config.json'\n",
    "data_location = 'examples/spanish_wheat/spanish_wheat_data.csv'\n",
    "output_directory = \"demo_output\"\n",
    "\n",
    "# == 1. SETUP CONFIG\n",
    "\n",
    "config = config_loader(config_location, 'json')\n",
    "process_runner = ProcessRunner(config)\n",
    "\n",
    "config_amended = process_runner.run_processes(\n",
    "    config_init_processes(config),\n",
    "    config)\n",
    "process_runner.config = config_amended\n",
    "# == 2. SETUP EXTERNAL STATE\n",
    "external_state_data = load_external_state(data_location, 'csv', EXT_DATA_COLS)\n",
    "process_runner.external_state = external_state_data\n",
    "external_state = process_runner.run_processes(\n",
    "    external_state_init_processes(start_day, end_day, config),\n",
    "    external_state_data)\n",
    "\n",
    "process_runner.external_state = external_state\n",
    "\n",
    "# TODO: init params\n",
    "\n",
    "# == SETUP INITIAL STATE\n",
    "initial_state = Model_State_Shape()\n",
    "state = process_runner.run_processes(\n",
    "    state_init_processes(config, start_day, end_day),\n",
    "    initial_state,\n",
    ")\n",
    "\n",
    "# == RUN PROCESSES\n",
    "processes = full_model_processes(config, start_day, end_day)"
   ]
  },
  {
   "cell_type": "code",
   "execution_count": 15,
   "metadata": {},
   "outputs": [
    {
     "output_type": "execute_result",
     "data": {
      "text/plain": "rt',\n 'Convert g_sto from umol to mmol, and from H2O to O3',\n 'set mean gsto',\n 'Scale mean gsto up to bulk gsto',\n 'Reset and Calculate the resistance model for O3 over the target canopy',\n 'Vd calculation duplicated here just for comparison purposes',\n 'Calculate Top Layer Canopy ozone',\n 'Calculates Ozone concentration for other layers',\n 'Reset and setup Leaf Resistance Model',\n 'P-M - Reset Values at beginning of day',\n 'Reset previous state',\n 'Copy State',\n '<lambda>',\n '<lambda>',\n 'set_value',\n 'get_row',\n 'Calculate the effective temperature',\n 'Use height of primary land cover if height method is constant',\n 'Calculate height of top of each canopy as a fraction of total canopy height',\n \"Use primary land cover's estimate of total LAI and spread over layers and LCs\",\n 'get LAI_total as sum of all layers and components',\n 'Calculate the distribution of LAI between land covers',\n 'Calc_SAI_Estimate_total - wheat',\n 'Spread single SAI value to layers and LCs',\n 'get layer SAI_total',\n 'get layer LAI-weighted mean leaf width(Lm_LAI)',\n 'calculate PAR_sun_shade',\n 'Calculate estimated windspeed at canopy',\n 'set constant wind speed at each layer',\n 'P-M - soil moisture calc',\n 'run_setup',\n 'Gets the difference between current td and td at season_Astart',\n 'get_g_bv',\n 'ewert',\n 'Convert g_sto from umol to mmol, and from H2O to O3',\n 'set mean gsto',\n 'Scale mean gsto up to bulk gsto',\n 'Reset and Calculate the resistance model for O3 over the target canopy',\n 'Vd calculation duplicated here just for comparison purposes',\n 'Calculate Top Layer Canopy ozone',\n 'Calculates Ozone concentration for other layers',\n 'Reset and setup Leaf Resistance Model',\n 'P-M - Reset Values at beginning of day',\n 'Reset previous state',\n 'Copy State',\n '<lambda>',\n '<lambda>',\n 'set_value',\n 'get_row',\n 'Calculate the effective temperature',\n 'Use height of primary land cover if height method is constant',\n 'Calculate height of top of each canopy as a fraction of total canopy height',\n \"Use primary land cover's estimate of total LAI and spread over layers and LCs\",\n 'get LAI_total as sum of all layers and components',\n 'Calculate the distribution of LAI between land covers',\n 'Calc_SAI_Estimate_total - wheat',\n 'Spread single SAI value to layers and LCs',\n 'get layer SAI_total',\n 'get layer LAI-weighted mean leaf width(Lm_LAI)',\n 'calculate PAR_sun_shade',\n 'Calculate estimated windspeed at canopy',\n 'set constant wind speed at each layer',\n 'P-M - soil moisture calc',\n 'run_setup',\n 'Gets the difference between current td and td at season_Astart',\n 'get_g_bv',\n 'ewert',\n 'Convert g_sto from umol to mmol, and from H2O to O3',\n 'set mean gsto',\n 'Scale mean gsto up to bulk gsto',\n 'Reset and Calculate the resistance model for O3 over the target canopy',\n 'Vd calculation duplicated here just for comparison purposes',\n 'Calculate Top Layer Canopy ozone',\n 'Calculates Ozone concentration for other layers',\n 'Reset and setup Leaf Resistance Model',\n 'P-M - Reset Values at beginning of day',\n 'Reset previous state',\n 'Copy State',\n '<lambda>',\n '<lambda>',\n 'set_value',\n 'get_row',\n 'Calculate the effective temperature',\n 'Use height of primary land cover if height method is constant',\n 'Calculate height of top of each canopy as a fraction of total canopy height',\n \"Use primary land cover's estimate of total LAI and spread over layers and LCs\",\n 'get LAI_total as sum of all layers and components',\n 'Calculate the distribution of LAI between land covers',\n 'Calc_SAI_Estimate_total - wheat',\n 'Spread single SAI value to layers and LCs',\n 'get layer SAI_total',\n 'get layer LAI-weighted mean leaf width(Lm_LAI)',\n 'calculate PAR_sun_shade',\n 'Calculate estimated windspeed at canopy',\n 'set constant wind speed at each layer',\n 'P-M - soil moisture calc',\n 'run_setup',\n 'Gets the difference between current td and td at season_Astart',\n 'get_g_bv',\n 'ewert',\n 'Convert g_sto from umol to mmol, and from H2O to O3',\n 'set mean gsto',\n 'Scale mean gsto up to bulk gsto',\n 'Reset and Calculate the resistance model for O3 over the target canopy',\n 'Vd calculation duplicated here just for comparison purposes',\n 'Calculate Top Layer Canopy ozone',\n 'Calculates Ozone concentration for other layers',\n 'Reset and setup Leaf Resistance Model',\n 'P-M - Reset Values at beginning of day',\n 'Reset previous state',\n 'Copy State',\n '<lambda>',\n '<lambda>',\n 'set_value',\n 'get_row',\n 'Calculate the effective temperature',\n 'Use height of primary land cover if height method is constant',\n 'Calculate height of top of each canopy as a fraction of total canopy height',\n \"Use primary land cover's estimate of total LAI and spread over layers and LCs\",\n 'get LAI_total as sum of all layers and components',\n 'Calculate the distribution of LAI between land covers',\n 'Calc_SAI_Estimate_total - wheat',\n 'Spread single SAI value to layers and LCs',\n 'get layer SAI_total',\n 'get layer LAI-weighted mean leaf width(Lm_LAI)',\n 'calculate PAR_sun_shade',\n 'Calculate estimated windspeed at canopy',\n 'set constant wind speed at each layer',\n 'P-M - soil moisture calc',\n 'run_setup',\n 'Gets the difference between current td and td at season_Astart',\n 'get_g_bv',\n 'ewert',\n 'Convert g_sto from umol to mmol, and from H2O to O3',\n 'set mean gsto',\n 'Scale mean gsto up to bulk gsto',\n 'Reset and Calculate the resistance model for O3 over the target canopy',\n 'Vd calculation duplicated here just for comparison purposes',\n 'Calculate Top Layer Canopy ozone',\n 'Calculates Ozone concentration for other layers',\n 'Reset and setup Leaf Resistance Model',\n 'P-M - Reset Values at beginning of day',\n 'Reset previous state',\n 'Copy State',\n '<lambda>',\n '<lambda>',\n 'set_value',\n 'get_row',\n 'Calculate the effective temperature',\n 'Use height of primary land cover if height method is constant',\n 'Calculate height of top of each canopy as a fraction of total canopy height',\n \"Use primary land cover's estimate of total LAI and spread over layers and LCs\",\n 'get LAI_total as sum of all layers and components',\n 'Calculate the distribution of LAI between land covers',\n 'Calc_SAI_Estimate_total - wheat',\n 'Spread single SAI value to layers and LCs',\n 'get layer SAI_total',\n 'get layer LAI-weighted mean leaf width(Lm_LAI)',\n 'calculate PAR_sun_shade',\n 'Calculate estimated windspeed at canopy',\n 'set constant wind speed at each layer',\n 'P-M - soil moisture calc',\n 'run_setup',\n 'Gets the difference between current td and td at season_Astart',\n 'get_g_bv',\n 'ewert',\n 'Convert g_sto from umol to mmol, and from H2O to O3',\n 'set mean gsto',\n 'Scale mean gsto up to bulk gsto',\n 'Reset and Calculate the resistance model for O3 over the target canopy',\n 'Vd calculation duplicated here just for comparison purposes',\n 'Calculate Top Layer Canopy ozone',\n 'Calculates Ozone concentration for other layers',\n 'Reset and setup Leaf Resistance Model',\n 'P-M - Reset Values at beginning of day',\n 'Reset previous state',\n 'Copy State',\n '<lambda>',\n '<lambda>',\n 'set_value',\n 'get_row',\n 'Calculate the effective temperature',\n 'Use height of primary land cover if height method is constant',\n 'Calculate height of top of each canopy as a fraction of total canopy height',\n \"Use primary land cover's estimate of total LAI and spread over layers and LCs\",\n 'get LAI_total as sum of all layers and components',\n 'Calculate the distribution of LAI between land covers',\n 'Calc_SAI_Estimate_total - wheat',\n 'Spread single SAI value to layers and LCs',\n 'get layer SAI_total',\n 'get layer LAI-weighted mean leaf width(Lm_LAI)',\n 'calculate PAR_sun_shade',\n 'Calculate estimated windspeed at canopy',\n 'set constant wind speed at each layer',\n 'P-M - soil moisture calc',\n 'run_setup',\n 'Gets the difference between current td and td at season_Astart',\n 'get_g_bv',\n 'ewert',\n 'Convert g_sto from umol to mmol, and from H2O to O3',\n 'set mean gsto',\n 'Scale mean gsto up to bulk gsto',\n 'Reset and Calculate the resistance model for O3 over the target canopy',\n 'Vd calculation duplicated here just for comparison purposes',\n 'Calculate Top Layer Canopy ozone',\n 'Calculates Ozone concentration for other layers',\n 'Reset and setup Leaf Resistance Model',\n 'P-M - Reset Values at beginning of day',\n 'Reset previous state',\n 'Copy State',\n '<lambda>',\n '<lambda>',\n 'set_value',\n 'get_row',\n 'Calculate the effective temperature',\n 'Use height of primary land cover if height method is constant',\n 'Calculate height of top of each canopy as a fraction of total canopy height',\n \"Use primary land cover's estimate of total LAI and spread over layers and LCs\",\n 'get LAI_total as sum of all layers and components',\n 'Calculate the distribution of LAI between land covers',\n 'Calc_SAI_Estimate_total - wheat',\n 'Spread single SAI value to layers and LCs',\n 'get layer SAI_total',\n 'get layer LAI-weighted mean leaf width(Lm_LAI)',\n 'calculate PAR_sun_shade',\n 'Calculate estimated windspeed at canopy',\n 'set constant wind speed at each layer',\n 'P-M - soil moisture calc',\n 'run_setup',\n 'Gets the difference between current td and td at season_Astart',\n 'get_g_bv',\n 'ewert',\n 'Convert g_sto from umol to mmol, and from H2O to O3',\n 'set mean gsto',\n 'Scale mean gsto up to bulk gsto',\n 'Reset and Calculate the resistance model for O3 over the target canopy',\n 'Vd calculation duplicated here just for comparison purposes',\n 'Calculate Top Layer Canopy ozone',\n 'Calculates Ozone concentration for other layers',\n 'Reset and setup Leaf Resistance Model',\n 'P-M - Reset Values at beginning of day',\n 'Reset previous state',\n 'Copy State',\n '<lambda>',\n '<lambda>',\n 'set_value',\n 'get_row',\n 'Calculate the effective temperature',\n 'Use height of primary land cover if height method is constant',\n 'Calculate height of top of each canopy as a fraction of total canopy height',\n \"Use primary land cover's estimate of total LAI and spread over layers and LCs\",\n 'get LAI_total as sum of all layers and components',\n 'Calculate the distribution of LAI between land covers',\n 'Calc_SAI_Estimate_total - wheat',\n 'Spread single SAI value to layers and LCs',\n 'get layer SAI_total',\n 'get layer LAI-weighted mean leaf width(Lm_LAI)',\n 'calculate PAR_sun_shade',\n 'Calculate estimated windspeed at canopy',\n 'set constant wind speed at each layer',\n 'P-M - soil moisture calc',\n 'run_setup',\n 'Gets the difference between current td and td at season_Astart',\n 'get_g_bv',\n 'ewert',\n 'Convert g_sto from umol to mmol, and from H2O to O3',\n 'set mean gsto',\n 'Scale mean gsto up to bulk gsto',\n 'Reset and Calculate the resistance model for O3 over the target canopy',\n 'Vd calculation duplicated here just for comparison purposes',\n 'Calculate Top Layer Canopy ozone',\n 'Calculates Ozone concentration for other layers',\n 'Reset and setup Leaf Resistance Model',\n 'P-M - Reset Values at beginning of day',\n 'Reset previous state',\n 'Copy State',\n '<lambda>',\n '<lambda>',\n 'set_value',\n 'get_row',\n 'Calculate the effective temperature',\n 'Use height of primary land cover if height method is constant',\n 'Calculate height of top of each canopy as a fraction of total canopy height',\n \"Use primary land cover's estimate of total LAI and spread over layers and LCs\",\n 'get LAI_total as sum of all layers and components',\n 'Calculate the distribution of LAI between land covers',\n 'Calc_SAI_Estimate_total - wheat',\n 'Spread single SAI value to layers and LCs',\n 'get layer SAI_total',\n 'get layer LAI-weighted mean leaf width(Lm_LAI)',\n 'calculate PAR_sun_shade',\n 'Calculate estimated windspeed at canopy',\n 'set constant wind speed at each layer',\n 'P-M - soil moisture calc',\n 'run_setup',\n 'Gets the difference between current td and td at season_Astart',\n 'get_g_bv',\n 'ewert',\n 'Convert g_sto from umol to mmol, and from H2O to O3',\n 'set mean gsto',\n 'Scale mean gsto up to bulk gsto',\n 'Reset and Calculate the resistance model for O3 over the target canopy',\n 'Vd calculation duplicated here just for comparison purposes',\n 'Calculate Top Layer Canopy ozone',\n 'Calculates Ozone concentration for other layers',\n 'Reset and setup Leaf Resistance Model',\n 'P-M - Reset Values at beginning of day',\n 'Reset previous state',\n 'Copy State',\n '<lambda>',\n '<lambda>',\n 'set_value',\n 'set_value',\n 'get_row',\n 'Calculate the effective temperature',\n 'Calculate the day length (photoperiod)',\n 'Use height of primary land cover if height method is constant',\n 'Calculate height of top of each canopy as a fraction of total canopy height',\n \"Use primary land cover's estimate of total LAI and spread over layers and LCs\",\n 'get LAI_total as sum of all layers and components',\n 'Calculate the distribution of LAI between land covers',\n 'Calc_SAI_Estimate_total - wheat',\n 'Spread single SAI value to layers and LCs',\n 'get layer SAI_total',\n 'get layer LAI-weighted mean leaf width(Lm_LAI)',\n 'calculate PAR_sun_shade',\n 'Calculate estimated windspeed at canopy',\n 'set constant wind speed at each layer',\n 'P-M - soil moisture calc',\n 'run_setup',\n 'Gets the difference between current td and td at season_Astart',\n 'get_g_bv',\n 'ewert',\n 'Convert g_sto from umol to mmol, and from H2O to O3',\n 'set mean gsto',\n 'Scale mean gsto up to bulk gsto',\n 'Reset and Calculate the resistance model for O3 over the target canopy',\n 'Vd calculation duplicated here just for comparison purposes',\n 'Calculate Top Layer Canopy ozone',\n 'Calculates Ozone concentration for other layers',\n 'Reset and setup Leaf Resistance Model',\n 'P-M - Reset Values at beginning of day',\n 'Reset previous state',\n 'Copy State',\n '<lambda>',\n '<lambda>',\n 'set_value',\n 'get_row',\n 'Calculate the effective temperature',\n 'Use height of primary land cover if height method is constant',\n 'Calculate height of top of each canopy as a fraction of total canopy height',\n \"Use primary land cover's estimate of total LAI and spread over layers and LCs\",\n 'get LAI_total as sum of all layers and components',\n 'Calculate the distribution of LAI between land covers',\n 'Calc_SAI_Estimate_total - wheat',\n 'Spread single SAI value to layers and LCs',\n 'get layer SAI_total',\n 'get layer LAI-weighted mean leaf width(Lm_LAI)',\n 'calculate PAR_sun_shade',\n 'Calculate estimated windspeed at canopy',\n 'set constant wind speed at each layer',\n 'P-M - soil moisture calc',\n 'run_setup',\n 'Gets the difference between current td and td at season_Astart',\n 'get_g_bv',\n 'ewert',\n 'Convert g_sto from umol to mmol, and from H2O to O3',\n 'set mean gsto',\n 'Scale mean gsto up to bulk gsto',\n 'Reset and Calculate the resistance model for O3 over the target canopy',\n 'Vd calculation duplicated here just for comparison purposes',\n 'Calculate Top Layer Canopy ozone',\n 'Calculates Ozone concentration for other layers',\n 'Reset and setup Leaf Resistance Model',\n 'P-M - Reset Values at beginning of day',\n 'Reset previous state',\n 'Copy State',\n '<lambda>',\n '<lambda>',\n 'set_value',\n 'get_row',\n 'Calculate the effective temperature',\n 'Use height of primary land cover if height method is constant',\n 'Calculate height of top of each canopy as a fraction of total canopy height',\n \"Use primary land cover's estimate of total LAI and spread over layers and LCs\",\n 'get LAI_total as sum of all layers and components',\n 'Calculate the distribution of LAI between land covers',\n 'Calc_SAI_Estimate_total - wheat',\n 'Spread single SAI value to layers and LCs',\n 'get layer SAI_total',\n 'get layer LAI-weighted mean leaf width(Lm_LAI)',\n 'calculate PAR_sun_shade',\n 'Calculate estimated windspeed at canopy',\n 'set constant wind speed at each layer',\n 'P-M - soil moisture calc',\n 'run_setup',\n 'Gets the difference between current td and td at season_Astart',\n 'get_g_bv',\n 'ewert',\n 'Convert g_sto from umol to mmol, and from H2O to O3',\n 'set mean gsto',\n 'Scale mean gsto up to bulk gsto',\n 'Reset and Calculate the resistance model for O3 over the target canopy',\n 'Vd calculation duplicated here just for comparison purposes',\n 'Calculate Top Layer Canopy ozone',\n 'Calculates Ozone concentration for other layers',\n 'Reset and setup Leaf Resistance Model',\n 'P-M - Reset Values at beginning of day',\n 'Reset previous state',\n 'Copy State',\n '<lambda>',\n '<lambda>',\n 'set_value',\n 'get_row',\n 'Calculate the effective temperature',\n 'Use height of primary land cover if height method is constant',\n 'Calculate height of top of each canopy as a fraction of total canopy height',\n \"Use primary land cover's estimate of total LAI and spread over layers and LCs\",\n 'get LAI_total as sum of all layers and components',\n 'Calculate the distribution of LAI between land covers',\n 'Calc_SAI_Estimate_total - wheat',\n 'Spread single SAI value to layers and LCs',\n 'get layer SAI_total',\n 'get layer LAI-weighted mean leaf width(Lm_LAI)',\n 'calculate PAR_sun_shade',\n 'Calculate estimated windspeed at canopy',\n 'set constant wind speed at each layer',\n 'P-M - soil moisture calc',\n 'run_setup',\n 'Gets the difference between current td and td at season_Astart',\n 'get_g_bv',\n 'ewert',\n 'Convert g_sto from umol to mmol, and from H2O to O3',\n 'set mean gsto',\n 'Scale mean gsto up to bulk gsto',\n 'Reset and Calculate the resistance model for O3 over the target canopy',\n 'Vd calculation duplicated here just for comparison purposes',\n 'Calculate Top Layer Canopy ozone',\n 'Calculates Ozone concentration for other layers',\n 'Reset and setup Leaf Resistance Model',\n 'P-M - Reset Values at beginning of day',\n 'Reset previous state',\n 'Copy State',\n '<lambda>',\n '<lambda>',\n 'set_value',\n 'get_row',\n 'Calculate the effective temperature',\n 'Use height of primary land cover if height method is constant',\n 'Calculate height of top of each canopy as a fraction of total canopy height',\n \"Use primary land cover's estimate of total LAI and spread over layers and LCs\",\n 'get LAI_total as sum of all layers and components',\n 'Calculate the distribution of LAI between land covers',\n 'Calc_SAI_Estimate_total - wheat',\n 'Spread single SAI value to layers and LCs',\n 'get layer SAI_total',\n 'get layer LAI-weighted mean leaf width(Lm_LAI)',\n 'calculate PAR_sun_shade',\n 'Calculate estimated windspeed at canopy',\n 'set constant wind speed at each layer',\n 'P-M - soil moisture calc',\n 'run_setup',\n 'Gets the difference between current td and td at season_Astart',\n 'get_g_bv',\n 'ewert',\n 'Convert g_sto from umol to mmol, and from H2O to O3',\n 'set mean gsto',\n 'Scale mean gsto up to bulk gsto',\n 'Reset and Calculate the resistance model for O3 over the target canopy',\n 'Vd calculation duplicated here just for comparison purposes',\n 'Calculate Top Layer Canopy ozone',\n 'Calculates Ozone concentration for other layers',\n 'Reset and setup Leaf Resistance Model',\n 'P-M - Reset Values at beginning of day',\n 'Reset previous state',\n 'Copy State',\n '<lambda>',\n '<lambda>',\n 'set_value',\n 'get_row',\n 'Calculate the effective temperature',\n 'Use height of primary land cover if height method is constant',\n 'Calculate height of top of each canopy as a fraction of total canopy height',\n \"Use primary land cover's estimate of total LAI and spread over layers and LCs\",\n 'get LAI_total as sum of all layers and components',\n 'Calculate the distribution of LAI between land covers',\n 'Calc_SAI_Estimate_total - wheat',\n 'Spread single SAI value to layers and LCs',\n 'get layer SAI_total',\n 'get layer LAI-weighted mean leaf width(Lm_LAI)',\n 'calculate PAR_sun_shade',\n 'Calculate estimated windspeed at canopy',\n 'set constant wind speed at each layer',\n 'P-M - soil moisture calc',\n 'run_setup',\n 'Gets the difference between current td and td at season_Astart',\n 'get_g_bv',\n 'ewert',\n 'Convert g_sto from umol to mmol, and from H2O to O3',\n 'set mean gsto',\n 'Scale mean gsto up to bulk gsto',\n 'Reset and Calculate the resistance model for O3 over the target canopy',\n 'Vd calculation duplicated here just for comparison purposes',\n 'Calculate Top Layer Canopy ozone',\n 'Calculates Ozone concentration for other layers',\n 'Reset and setup Leaf Resistance Model',\n 'P-M - Reset Values at beginning of day',\n 'Reset previous state',\n ...]"
     },
     "metadata": {},
     "execution_count": 15
    }
   ],
   "source": [
    "p = [p.comment or p.func.__name__ for p in processes]\n",
    "p"
   ]
  },
  {
   "cell_type": "code",
   "execution_count": null,
   "metadata": {},
   "outputs": [],
   "source": []
  },
  {
   "cell_type": "code",
   "execution_count": null,
   "metadata": {},
   "outputs": [],
   "source": []
  }
 ]
}
