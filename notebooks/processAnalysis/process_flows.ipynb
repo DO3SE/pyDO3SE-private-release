{
 "metadata": {
  "language_info": {
   "codemirror_mode": {
    "name": "ipython",
    "version": 3
   },
   "file_extension": ".py",
   "mimetype": "text/x-python",
   "name": "python",
   "nbconvert_exporter": "python",
   "pygments_lexer": "ipython3",
   "version": "3.8.0-final"
  },
  "orig_nbformat": 2,
  "kernelspec": {
   "name": "python38064bitvenvvenv4b43fb24336341189f093bb3fbaa6049",
   "display_name": "Python 3.8.0 64-bit ('venv': venv)"
  }
 },
 "nbformat": 4,
 "nbformat_minor": 2,
 "cells": [
  {
   "cell_type": "code",
   "execution_count": 1,
   "metadata": {},
   "outputs": [],
   "source": [
    "import os\n",
    "import sys\n",
    "module_path = os.path.abspath(os.path.join('..'))\n",
    "if module_path not in sys.path:\n",
    "    sys.path.append(module_path)"
   ]
  },
  {
   "cell_type": "code",
   "execution_count": 2,
   "metadata": {},
   "outputs": [],
   "source": [
    "from proflow.Objects.Process import Process\n",
    "from pyDO3SE.Config import Config_Shape\n",
    "from pyDO3SE.Config.Config_Shape import Config_Land_Cover\n",
    "\n",
    "from pyDO3SE.Defaults.default_processes import hourly_processes, set_hour"
   ]
  },
  {
   "cell_type": "code",
   "execution_count": 3,
   "metadata": {},
   "outputs": [],
   "source": [
    "\n",
    "number_of_layers = 3\n",
    "number_of_components = 2\n",
    "config = Config_Shape(\n",
    "    Land_Cover=Config_Land_Cover(\n",
    "        nL=number_of_layers,\n",
    "        nLC=number_of_components,\n",
    "    ),\n",
    ")\n",
    "processes = hourly_processes(config, 1)\n"
   ]
  },
  {
   "cell_type": "code",
   "execution_count": 4,
   "metadata": {},
   "outputs": [],
   "source": [
    "from ipycanvas import Canvas ,MultiCanvas, hold_canvas\n",
    "from math import pi\n",
    "from collections import namedtuple\n",
    "from scipy.interpolate import interp1d\n",
    "import numpy as np\n",
    "from helpers.list_helpers import flatten_list\n"
   ]
  },
  {
   "cell_type": "code",
   "execution_count": 5,
   "metadata": {},
   "outputs": [],
   "source": [
    "from proflow.analysis.link_inputs_processes import link_processes_to_state\n"
   ]
  },
  {
   "cell_type": "code",
   "execution_count": 6,
   "metadata": {},
   "outputs": [],
   "source": [
    "canvas = Canvas(width=2400, height=4800)\n",
    "# link_processes_to_state(canvas, flatten_list(processes), 1400)"
   ]
  },
  {
   "cell_type": "code",
   "execution_count": 7,
   "metadata": {},
   "outputs": [],
   "source": [
    "from pyDO3SE.Defaults.default_processes import calc_phenology_process"
   ]
  },
  {
   "cell_type": "code",
   "execution_count": 8,
   "metadata": {},
   "outputs": [
    {
     "output_type": "execute_result",
     "data": {
      "text/plain": "['Use height of primary land cover if height method is constant',\n 'Calculate height of top of each canopy as a fraction of total canopy height',\n \"Use primary land cover's estimate of total LAI and spread over layers and LCs\",\n 'get LAI_total as sum of all layers and components',\n 'Calculate the distribution of LAI between land covers',\n 'Calc_SAI Estimate_total - LAI',\n 'Spread single SAI value to layers and LCs',\n 'get layer SAI_total',\n 'get layer LAI-weighted mean leaf width(Lm_LAI)']"
     },
     "metadata": {},
     "execution_count": 8
    }
   ],
   "source": [
    "processes = flatten_list(calc_phenology_process(Config_Shape()))\n",
    "[p.comment for p in processes]"
   ]
  },
  {
   "cell_type": "code",
   "execution_count": 9,
   "metadata": {},
   "outputs": [],
   "source": [
    "canvas = MultiCanvas(2, width=1600, height=1800, sync_image_data=True)\n",
    "with hold_canvas(canvas):\n",
    "    canvas[0].fill_style = 'white'\n",
    "    canvas[0].fill_rect(0,0, 1600, 1800)\n",
    "    # canvas.fill_style = 'black'\n",
    "    link_processes_to_state(canvas[1], flatten_list(processes), 800)"
   ]
  },
  {
   "cell_type": "code",
   "execution_count": 10,
   "metadata": {},
   "outputs": [
    {
     "output_type": "error",
     "ename": "RuntimeError",
     "evalue": "No image data to save, please be sure that ``sync_image_data`` is set to True",
     "traceback": [
      "\u001b[0;31m---------------------------------------------------------------------------\u001b[0m",
      "\u001b[0;31mRuntimeError\u001b[0m                              Traceback (most recent call last)",
      "\u001b[0;32m<ipython-input-10-6c4f1e09e072>\u001b[0m in \u001b[0;36m<module>\u001b[0;34m\u001b[0m\n\u001b[0;32m----> 1\u001b[0;31m \u001b[0mcanvas\u001b[0m\u001b[0;34m.\u001b[0m\u001b[0mto_file\u001b[0m\u001b[0;34m(\u001b[0m\u001b[0;34m'phenology_flow.png'\u001b[0m\u001b[0;34m)\u001b[0m\u001b[0;34m\u001b[0m\u001b[0;34m\u001b[0m\u001b[0m\n\u001b[0m",
      "\u001b[0;32m~/work/SEI/projects/DO3SE/source/pyDO3SE/venv/lib/python3.8/site-packages/ipycanvas/canvas.py\u001b[0m in \u001b[0;36mto_file\u001b[0;34m(self, filename)\u001b[0m\n\u001b[1;32m     42\u001b[0m         \"\"\"\n\u001b[1;32m     43\u001b[0m         \u001b[0;32mif\u001b[0m \u001b[0mself\u001b[0m\u001b[0;34m.\u001b[0m\u001b[0mimage_data\u001b[0m \u001b[0;32mis\u001b[0m \u001b[0;32mNone\u001b[0m\u001b[0;34m:\u001b[0m\u001b[0;34m\u001b[0m\u001b[0;34m\u001b[0m\u001b[0m\n\u001b[0;32m---> 44\u001b[0;31m             \u001b[0;32mraise\u001b[0m \u001b[0mRuntimeError\u001b[0m\u001b[0;34m(\u001b[0m\u001b[0;34m'No image data to save, please be sure that ``sync_image_data`` is set to True'\u001b[0m\u001b[0;34m)\u001b[0m\u001b[0;34m\u001b[0m\u001b[0;34m\u001b[0m\u001b[0m\n\u001b[0m\u001b[1;32m     45\u001b[0m         \u001b[0;32mif\u001b[0m \u001b[0;32mnot\u001b[0m \u001b[0mfilename\u001b[0m\u001b[0;34m.\u001b[0m\u001b[0mendswith\u001b[0m\u001b[0;34m(\u001b[0m\u001b[0;34m'.png'\u001b[0m\u001b[0;34m)\u001b[0m \u001b[0;32mand\u001b[0m \u001b[0;32mnot\u001b[0m \u001b[0mfilename\u001b[0m\u001b[0;34m.\u001b[0m\u001b[0mendswith\u001b[0m\u001b[0;34m(\u001b[0m\u001b[0;34m'.PNG'\u001b[0m\u001b[0;34m)\u001b[0m\u001b[0;34m:\u001b[0m\u001b[0;34m\u001b[0m\u001b[0;34m\u001b[0m\u001b[0m\n\u001b[1;32m     46\u001b[0m             \u001b[0;32mraise\u001b[0m \u001b[0mRuntimeError\u001b[0m\u001b[0;34m(\u001b[0m\u001b[0;34m'Can only save to a PNG file'\u001b[0m\u001b[0;34m)\u001b[0m\u001b[0;34m\u001b[0m\u001b[0;34m\u001b[0m\u001b[0m\n",
      "\u001b[0;31mRuntimeError\u001b[0m: No image data to save, please be sure that ``sync_image_data`` is set to True"
     ]
    }
   ],
   "source": [
    "canvas.to_file('phenology_flow.png')"
   ]
  },
  {
   "cell_type": "code",
   "execution_count": null,
   "metadata": {},
   "outputs": [],
   "source": []
  },
  {
   "cell_type": "code",
   "execution_count": null,
   "metadata": {},
   "outputs": [],
   "source": []
  }
 ]
}
