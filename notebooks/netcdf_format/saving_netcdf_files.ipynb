{
 "cells": [
  {
   "cell_type": "code",
   "execution_count": 23,
   "metadata": {},
   "outputs": [],
   "source": [
    "import netCDF4 as nc\n",
    "import numpy as np"
   ]
  },
  {
   "cell_type": "code",
   "execution_count": 16,
   "metadata": {},
   "outputs": [
    {
     "data": {
      "text/plain": [
       "<class 'netCDF4._netCDF4.Dataset'>\n",
       "root group (NETCDF4 data model, file format HDF5):\n",
       "    dimensions(sizes): \n",
       "    variables(dimensions): \n",
       "    groups: "
      ]
     },
     "execution_count": 16,
     "metadata": {},
     "output_type": "execute_result"
    }
   ],
   "source": [
    "import os\n",
    "nc_file_path = 'notebooks/netcdf_format/netdemo.nc'\n",
    "try:\n",
    "    os.remove(nc_file_path)\n",
    "except:\n",
    "    pass\n",
    "dc = nc.Dataset(nc_file_path, 'w', format=\"NETCDF4\")\n",
    "dc"
   ]
  },
  {
   "cell_type": "code",
   "execution_count": 17,
   "metadata": {},
   "outputs": [],
   "source": [
    "nL = 3\n",
    "nC = 2\n",
    "nP = 5\n",
    "time = dc.createDimension(\"time\", None)\n",
    "lat = dc.createDimension(\"lat\", 73)\n",
    "lon = dc.createDimension(\"lon\", 144)\n",
    "level = dc.createDimension('level', nL)\n",
    "component = dc.createDimension('component', nC)\n",
    "leaf_population = dc.createDimension('leaf_population', nP)"
   ]
  },
  {
   "cell_type": "code",
   "execution_count": 18,
   "metadata": {},
   "outputs": [
    {
     "data": {
      "text/plain": [
       "3"
      ]
     },
     "execution_count": 18,
     "metadata": {},
     "output_type": "execute_result"
    }
   ],
   "source": [
    "len(level)"
   ]
  },
  {
   "cell_type": "code",
   "execution_count": 19,
   "metadata": {},
   "outputs": [],
   "source": [
    "levels = dc.createVariable('levels', 'i4', ('level',))\n",
    "components = dc.createVariable('component', 'i4', ('component',))\n",
    "leaf_populations = dc.createVariable('leaf_population', 'i4', ('leaf_population',))\n",
    "times = dc.createVariable(\"time\",\"f8\",(\"time\",))\n",
    "latitudes = dc.createVariable(\"lat\",\"f4\",(\"lat\",))\n",
    "longitudes = dc.createVariable(\"lon\",\"f4\",(\"lon\",))"
   ]
  },
  {
   "cell_type": "code",
   "execution_count": 20,
   "metadata": {},
   "outputs": [],
   "source": [
    "# external variables\n",
    "Ts_C = dc.createVariable('Ts_C', 'f4', ('lat', 'lon', 'time'))\n",
    "Ts_C.units = 'C'\n",
    "P = dc.createVariable('P', 'f4', ('lat', 'lon', 'time'))\n",
    "P.units = 'kPa'\n",
    "precip = dc.createVariable('precip', 'f4', ('lat', 'lon', 'time'))\n",
    "precip.units = 'mm'"
   ]
  },
  {
   "cell_type": "code",
   "execution_count": 21,
   "metadata": {},
   "outputs": [],
   "source": [
    "# Model variables\n",
    "LAI = dc.createVariable('LAI', 'f4', ('lat', 'lon', 'time', 'level', 'component', 'leaf_population'))\n",
    "c_leaf = dc.createVariable('c_leaf', 'f4', ('lat', 'lon', 'time', 'component'))\n",
    "gsto = dc.createVariable('gsto', 'f4', ('lat', 'lon', 'time', 'component', 'level', 'leaf_population'))\n",
    "ozone = dc.createVariable('ozone', 'f4', ('lat', 'lon', 'time', 'level'))\n",
    "\n"
   ]
  },
  {
   "cell_type": "code",
   "execution_count": 22,
   "metadata": {},
   "outputs": [],
   "source": [
    "\n",
    "lats =  np.arange(-90,91,2.5)\n",
    "lons =  np.arange(-180,180,2.5)\n",
    "latitudes[:] = lats\n",
    "longitudes[:] = lons"
   ]
  },
  {
   "cell_type": "code",
   "execution_count": 24,
   "metadata": {},
   "outputs": [],
   "source": [
    "nDD = 365\n",
    "nRow = nDD * 24"
   ]
  },
  {
   "cell_type": "code",
   "execution_count": 37,
   "metadata": {},
   "outputs": [],
   "source": [
    "for rowI in range(3650):\n",
    "    LAI[0,0,rowI,0,0,0] = rowI"
   ]
  },
  {
   "cell_type": "code",
   "execution_count": 39,
   "metadata": {},
   "outputs": [],
   "source": [
    "lais = np.zeros((3,3,nRow, nL, nC, nP))\n",
    "for rowI in range(nRow):\n",
    "    lais[0,0,rowI, 0,0,0] = 0"
   ]
  },
  {
   "cell_type": "code",
   "execution_count": null,
   "metadata": {},
   "outputs": [
    {
     "data": {
      "text/plain": [
       "masked_array(data=[0., 0., 0., ..., 0., 0., 0.],\n",
       "             mask=False,\n",
       "       fill_value=1e+20,\n",
       "            dtype=float32)"
      ]
     },
     "execution_count": 36,
     "metadata": {},
     "output_type": "execute_result"
    }
   ],
   "source": [
    "LAI[0,0,:,0,0,0]"
   ]
  },
  {
   "cell_type": "code",
   "execution_count": 42,
   "metadata": {},
   "outputs": [],
   "source": [
    "LAI[0,0,:,0,0,0] = lais[0,0,:,0,0,0]"
   ]
  },
  {
   "cell_type": "code",
   "execution_count": null,
   "metadata": {},
   "outputs": [],
   "source": []
  }
 ],
 "metadata": {
  "interpreter": {
   "hash": "55af36d4526a3286a32996c88bb6725abcd0c30be6a05aa0e194610025ac8e52"
  },
  "kernelspec": {
   "display_name": "Python 3.8.5 64-bit ('venv': venv)",
   "name": "python3"
  },
  "language_info": {
   "codemirror_mode": {
    "name": "ipython",
    "version": 3
   },
   "file_extension": ".py",
   "mimetype": "text/x-python",
   "name": "python",
   "nbconvert_exporter": "python",
   "pygments_lexer": "ipython3",
   "version": "3.8.5"
  },
  "orig_nbformat": 4
 },
 "nbformat": 4,
 "nbformat_minor": 2
}